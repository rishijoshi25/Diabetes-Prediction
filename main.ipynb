{
 "cells": [
  {
   "cell_type": "code",
   "execution_count": null,
   "metadata": {
    "id": "VAdTWDy8v8EN"
   },
   "outputs": [],
   "source": [
    "import pandas as pd\n",
    "import numpy as np\n",
    "from sklearn.preprocessing import MinMaxScaler\n",
    "from sklearn.model_selection import train_test_split\n",
    "import matplotlib.pyplot as plt\n",
    "from math import exp\n",
    "from sklearn.preprocessing import StandardScaler\n",
    "\n",
    "import tensorflow as tf\n",
    "import keras\n",
    "from keras.models import Sequential\n",
    "from keras.layers import Dense, Dropout, Flatten, Activation\n",
    "from tensorflow.keras import regularizers\n",
    "from mlxtend.plotting import plot_decision_regions\n",
    "\n",
    "%matplotlib inline"
   ]
  },
  {
   "cell_type": "code",
   "execution_count": null,
   "metadata": {
    "id": "sDXpfzJUwBlU"
   },
   "outputs": [],
   "source": [
    "#Load the dataset\n",
    "diabetesDF = pd.read_csv('diabetes.csv')\n",
    "#diabetesDF.head()"
   ]
  },
  {
   "cell_type": "code",
   "execution_count": null,
   "metadata": {
    "colab": {
     "base_uri": "https://localhost:8080/"
    },
    "id": "Ac3Y5M03335q",
    "outputId": "ba1d2add-1423-4358-92e3-dbd95facf9d2"
   },
   "outputs": [
    {
     "data": {
      "text/plain": [
       "<bound method NDFrame.describe of      Pregnancies   Glucose  ...       Age  Outcome\n",
       "0       0.352941  0.743719  ...  0.483333      1.0\n",
       "1       0.058824  0.427136  ...  0.166667      0.0\n",
       "2       0.470588  0.919598  ...  0.183333      1.0\n",
       "3       0.058824  0.447236  ...  0.000000      0.0\n",
       "4       0.000000  0.688442  ...  0.200000      1.0\n",
       "..           ...       ...  ...       ...      ...\n",
       "763     0.588235  0.507538  ...  0.700000      0.0\n",
       "764     0.117647  0.613065  ...  0.100000      0.0\n",
       "765     0.294118  0.608040  ...  0.150000      0.0\n",
       "766     0.058824  0.633166  ...  0.433333      1.0\n",
       "767     0.058824  0.467337  ...  0.033333      0.0\n",
       "\n",
       "[768 rows x 9 columns]>"
      ]
     },
     "execution_count": 195,
     "metadata": {},
     "output_type": "execute_result"
    }
   ],
   "source": [
    "# create a scaler object\n",
    "scaler = MinMaxScaler()\n",
    "## fit and transform the data\n",
    "df_norm = pd.DataFrame(scaler.fit_transform(diabetesDF), columns=diabetesDF.columns)\n",
    "\n",
    "df_norm.describe"
   ]
  },
  {
   "cell_type": "code",
   "execution_count": null,
   "metadata": {
    "colab": {
     "base_uri": "https://localhost:8080/"
    },
    "id": "oClstYyMwDdf",
    "outputId": "512a85ff-d534-4f17-ed04-1ff1ddf12247"
   },
   "outputs": [
    {
     "name": "stdout",
     "output_type": "stream",
     "text": [
      "Shape of Train Data : (460, 8)\n",
      "Shape of Test Data : (154, 8)\n"
     ]
    }
   ],
   "source": [
    "X = df_norm.to_numpy()[:,0:8] \n",
    "Y = df_norm.to_numpy()[:,8]\n",
    "\n",
    "#y = y.reshape(y.shape[-1],1)\n",
    "\n",
    "X_train, X_rem, y_train, y_rem = train_test_split(X,y, train_size=0.6)\n",
    "test_size = 0.5\n",
    "X_valid, X_test, y_valid, y_test = train_test_split(X_rem,y_rem, test_size=0.5)\n",
    "\n",
    "print (f'Shape of Train Data : {X_train.shape}')\n",
    "print (f'Shape of Test Data : {X_test.shape}')"
   ]
  },
  {
   "cell_type": "code",
   "execution_count": null,
   "metadata": {
    "id": "y9cA3crD-DmG"
   },
   "outputs": [],
   "source": [
    "def sigmoid(z):\n",
    "    return 1/(1+np.exp(-z))"
   ]
  },
  {
   "cell_type": "code",
   "execution_count": null,
   "metadata": {
    "id": "CuqRteJh-D-1"
   },
   "outputs": [],
   "source": [
    "def loss(y, y_hat):\n",
    "    loss = -np.mean(y*(np.log(y_hat)) - (1-y)*np.log(1-y_hat))\n",
    "    return loss"
   ]
  },
  {
   "cell_type": "code",
   "execution_count": null,
   "metadata": {
    "id": "0Ua4w-eQ-EJb"
   },
   "outputs": [],
   "source": [
    "def random_init(dim):\n",
    "    w = np.zeros((dim,1))\n",
    "    b = 0\n",
    "    \n",
    "    return w,b"
   ]
  },
  {
   "cell_type": "code",
   "execution_count": null,
   "metadata": {
    "id": "5CEB3JGp-ETb"
   },
   "outputs": [],
   "source": [
    "#Stochastic Gradient Descent\n",
    "def SGD(w,b,X,y):\n",
    "    \n",
    "    m = X.shape[0]\n",
    "    a = sigmoid(np.dot(X,w) + b)\n",
    "    \n",
    "    cost = loss(y, sigmoid(np.dot(X,w) + b))\n",
    "    \n",
    "    ##Calculating gradients\n",
    "    dz = a-y\n",
    "    dw  = np.dot(np.transpose(X),dz)/m\n",
    "    db = np.sum(dz)/m\n",
    "    \n",
    "    grad = {\n",
    "        \"dw\":dw,\n",
    "        \"db\":db\n",
    "    }\n",
    "    return grad,cost"
   ]
  },
  {
   "cell_type": "code",
   "execution_count": null,
   "metadata": {
    "id": "6B9TAPpc-EdP"
   },
   "outputs": [],
   "source": [
    "#Stochaist Gradient Descent\n",
    "def optimize(X, y, learning_rate, num_iteration):\n",
    "    m = X.shape[0]\n",
    "    w,b = random_init(X_train.shape[1])\n",
    "    costs = []\n",
    "    \n",
    "    for i in range(num_iteration):\n",
    "        grads, cost=SGD(w,b,X,y)\n",
    "        \n",
    "        dw = grads[\"dw\"]\n",
    "        db = grads[\"db\"]\n",
    "        \n",
    "        #updating weights and bias\n",
    "        w  = w - learning_rate*dw\n",
    "        b  = b - learning_rate*db\n",
    "          \n",
    "        if(i%100==0):\n",
    "            costs.append(cost)\n",
    "        \n",
    "    params= {\n",
    "        \"w\":w,\n",
    "        \"b\":b\n",
    "    }\n",
    "    grads = {\n",
    "        \"dw\":dw,\n",
    "        \"db\":db\n",
    "    }\n",
    "    return params,grads,costs"
   ]
  },
  {
   "cell_type": "code",
   "execution_count": null,
   "metadata": {
    "colab": {
     "base_uri": "https://localhost:8080/"
    },
    "id": "IOqtrB9j-Eme",
    "outputId": "43fb4fe6-74aa-44e5-c84a-5780369412d4"
   },
   "outputs": [
    {
     "name": "stdout",
     "output_type": "stream",
     "text": [
      "{'w': array([[ 1.27323351],\n",
      "       [ 3.31351079],\n",
      "       [-1.06099195],\n",
      "       [ 0.46948146],\n",
      "       [ 0.32594899],\n",
      "       [ 1.45724325],\n",
      "       [ 0.58128457],\n",
      "       [ 1.36339543]]), 'b': -3.545458701077181}\n",
      "{'dw': array([[-0.00097607],\n",
      "       [-0.00901335],\n",
      "       [ 0.00190288],\n",
      "       [-0.00093413],\n",
      "       [ 0.00098592],\n",
      "       [-0.0059349 ],\n",
      "       [-0.0014524 ],\n",
      "       [-0.00088876]]), 'db': 0.008386056808756507}\n",
      "[-0.2019167873805058, 0.028717984901971465, 0.03811982173835939, 0.03789555611022685, 0.03733071842388747, 0.03684307518210695, 0.03643308125899291, 0.03608547352088613, 0.03578759801424374, 0.035529556222237905, 0.03530362902017106, 0.035103790578766565, 0.03492532724217974, 0.034764541391077174, 0.03461852218297071, 0.034484968447487566, 0.034362052025287075, 0.03424831235050141, 0.03414257511200956, 0.03404388944767064, 0.033951479396137366, 0.03386470631878104, 0.03378303976744018, 0.033706034860785564, 0.03363331468245802, 0.03356455655913739, 0.03349948134076532, 0.033437845007386266, 0.033379432081950225, 0.03332405044721624, 0.03327152725610165, 0.03322170569495831, 0.03317444241324265, 0.033129605474720374, 0.03308707271752841, 0.0330467304352943, 0.03300847231085998, 0.032972198549093966, 0.032937815166964264, 0.03290523340809187]\n"
     ]
    }
   ],
   "source": [
    "params,grads,costs = optimize(X_train, y_train,0.06,4000)\n",
    "\n",
    "print(params)\n",
    "print(grads)\n",
    "print(costs)"
   ]
  },
  {
   "cell_type": "code",
   "execution_count": null,
   "metadata": {
    "colab": {
     "base_uri": "https://localhost:8080/",
     "height": 283
    },
    "id": "4E9DCezF-EwQ",
    "outputId": "a223b281-b3b3-4ccc-fb67-284f7a7df824"
   },
   "outputs": [
    {
     "data": {
      "image/png": "[encoded data removed]",
      "text/plain": [
       "<Figure size 432x288 with 1 Axes>"
      ]
     },
     "metadata": {
      "needs_background": "light"
     },
     "output_type": "display_data"
    }
   ],
   "source": [
    "costs = np.squeeze(costs)\n",
    "plt.plot(costs)\n",
    "plt.xlabel('No. of iteration')\n",
    "plt.ylabel('Cost')\n",
    "plt.show()"
   ]
  },
  {
   "cell_type": "code",
   "execution_count": null,
   "metadata": {
    "id": "WNnOLuBJ-FiT"
   },
   "outputs": [],
   "source": [
    "def predict(w,b,X):\n",
    "    a = sigmoid(np.dot(X,w) + b)\n",
    "    return a"
   ]
  },
  {
   "cell_type": "code",
   "execution_count": null,
   "metadata": {
    "id": "e4dYrGWC-Fwv"
   },
   "outputs": [],
   "source": [
    "#Set the range for predicting 1 and 0\n",
    "def classification(x):\n",
    "    if(x>=0.5):\n",
    "        return 1\n",
    "    elif(x<0.5):\n",
    "        return 0"
   ]
  },
  {
   "cell_type": "code",
   "execution_count": null,
   "metadata": {
    "colab": {
     "base_uri": "https://localhost:8080/"
    },
    "id": "P8_V09zc-GFH",
    "outputId": "230a6c1e-e130-4ff8-d73f-e38cb05fb8a1"
   },
   "outputs": [
    {
     "name": "stdout",
     "output_type": "stream",
     "text": [
      "Training set accuracy =  74.34782608695652\n",
      "Test set accuracy =  75.32467532467533\n"
     ]
    }
   ],
   "source": [
    "temp = predict(params[\"w\"],params[\"b\"],X_train)\n",
    "train_prediction = np.array(list(map(classification,temp)))\n",
    "train_prediction = train_prediction.reshape((train_prediction.shape[0],1))\n",
    "\n",
    "# Accuracy for test set:\n",
    "temp = predict(params[\"w\"],params[\"b\"],X_test)\n",
    "test_prediction = np.array(list(map(classification,temp)))\n",
    "test_prediction = test_prediction.reshape((test_prediction.shape[0],1))\n",
    "\n",
    "print(\"Training set accuracy = \",(100 - np.mean(np.abs(train_prediction - y_train))*100))\n",
    "print(\"Test set accuracy = \",(100 - np.mean(np.abs(test_prediction - y_test))*100))"
   ]
  },
  {
   "cell_type": "code",
   "execution_count": null,
   "metadata": {
    "id": "H43omcvpwFiC"
   },
   "outputs": [],
   "source": [
    "model = Sequential()"
   ]
  },
  {
   "cell_type": "code",
   "execution_count": null,
   "metadata": {
    "colab": {
     "base_uri": "https://localhost:8080/"
    },
    "id": "Yj-WW8CH4AxQ",
    "outputId": "4ad8e8e3-3eea-46d2-ab67-9cd6e5beff91"
   },
   "outputs": [
    {
     "name": "stdout",
     "output_type": "stream",
     "text": [
      "Model: \"sequential_20\"\n",
      "_________________________________________________________________\n",
      "Layer (type)                 Output Shape              Param #   \n",
      "=================================================================\n",
      "dense_84 (Dense)             (None, 24)                216       \n",
      "_________________________________________________________________\n",
      "dense_85 (Dense)             (None, 12)                300       \n",
      "_________________________________________________________________\n",
      "dense_86 (Dense)             (None, 12)                156       \n",
      "_________________________________________________________________\n",
      "dense_87 (Dense)             (None, 1)                 13        \n",
      "=================================================================\n",
      "Total params: 685\n",
      "Trainable params: 685\n",
      "Non-trainable params: 0\n",
      "_________________________________________________________________\n"
     ]
    }
   ],
   "source": [
    "model.add(Dense(24, input_dim = (8), activation = 'relu'))\n",
    "model.add(Dense(12, activation = 'relu', kernel_regularizer=tf.keras.regularizers.L2(0.01)))\n",
    "model.add(Dense(12, activation = 'relu', kernel_regularizer=tf.keras.regularizers.L2(0.01)))\n",
    "model.add(Dense(1, activation = 'sigmoid'))\n",
    "\n",
    "model.summary()"
   ]
  },
  {
   "cell_type": "code",
   "execution_count": null,
   "metadata": {
    "id": "kyPFoR0OwbNm"
   },
   "outputs": [],
   "source": [
    "model.compile(optimizer = 'adam', loss = 'binary_crossentropy', metrics = ['accuracy'])"
   ]
  },
  {
   "cell_type": "code",
   "execution_count": null,
   "metadata": {
    "colab": {
     "base_uri": "https://localhost:8080/"
    },
    "id": "ujjXjErE3V3z",
    "outputId": "f98d5dbc-36a6-4393-b90e-ce4f5cabb507"
   },
   "outputs": [
    {
     "name": "stdout",
     "output_type": "stream",
     "text": [
      "Epoch 1/200\n",
      "15/15 [==============================] - 1s 16ms/step - loss: 0.9806 - accuracy: 0.4000 - val_loss: 0.9519 - val_accuracy: 0.6429\n",
      "Epoch 2/200\n",
      "15/15 [==============================] - 0s 4ms/step - loss: 0.9326 - accuracy: 0.6413 - val_loss: 0.9096 - val_accuracy: 0.6948\n",
      "Epoch 3/200\n",
      "15/15 [==============================] - 0s 5ms/step - loss: 0.8966 - accuracy: 0.6522 - val_loss: 0.8767 - val_accuracy: 0.6688\n",
      "Epoch 4/200\n",
      "15/15 [==============================] - 0s 5ms/step - loss: 0.8667 - accuracy: 0.6413 - val_loss: 0.8461 - val_accuracy: 0.6753\n",
      "Epoch 5/200\n",
      "15/15 [==============================] - 0s 3ms/step - loss: 0.8404 - accuracy: 0.6457 - val_loss: 0.8204 - val_accuracy: 0.6753\n",
      "Epoch 6/200\n",
      "15/15 [==============================] - 0s 3ms/step - loss: 0.8180 - accuracy: 0.6457 - val_loss: 0.8002 - val_accuracy: 0.6753\n",
      "Epoch 7/200\n",
      "15/15 [==============================] - 0s 5ms/step - loss: 0.8001 - accuracy: 0.6457 - val_loss: 0.7797 - val_accuracy: 0.6753\n",
      "Epoch 8/200\n",
      "15/15 [==============================] - 0s 5ms/step - loss: 0.7818 - accuracy: 0.6457 - val_loss: 0.7637 - val_accuracy: 0.6753\n",
      "Epoch 9/200\n",
      "15/15 [==============================] - 0s 5ms/step - loss: 0.7662 - accuracy: 0.6457 - val_loss: 0.7491 - val_accuracy: 0.6753\n",
      "Epoch 10/200\n",
      "15/15 [==============================] - 0s 4ms/step - loss: 0.7520 - accuracy: 0.6457 - val_loss: 0.7366 - val_accuracy: 0.6688\n",
      "Epoch 11/200\n",
      "15/15 [==============================] - 0s 5ms/step - loss: 0.7384 - accuracy: 0.6457 - val_loss: 0.7221 - val_accuracy: 0.6753\n",
      "Epoch 12/200\n",
      "15/15 [==============================] - 0s 4ms/step - loss: 0.7263 - accuracy: 0.6457 - val_loss: 0.7099 - val_accuracy: 0.6688\n",
      "Epoch 13/200\n",
      "15/15 [==============================] - 0s 5ms/step - loss: 0.7165 - accuracy: 0.6478 - val_loss: 0.6981 - val_accuracy: 0.6753\n",
      "Epoch 14/200\n",
      "15/15 [==============================] - 0s 4ms/step - loss: 0.7098 - accuracy: 0.6652 - val_loss: 0.6957 - val_accuracy: 0.7338\n",
      "Epoch 15/200\n",
      "15/15 [==============================] - 0s 5ms/step - loss: 0.6931 - accuracy: 0.6696 - val_loss: 0.6788 - val_accuracy: 0.6883\n",
      "Epoch 16/200\n",
      "15/15 [==============================] - 0s 5ms/step - loss: 0.6835 - accuracy: 0.6652 - val_loss: 0.6701 - val_accuracy: 0.7208\n",
      "Epoch 17/200\n",
      "15/15 [==============================] - 0s 3ms/step - loss: 0.6739 - accuracy: 0.6739 - val_loss: 0.6620 - val_accuracy: 0.7273\n",
      "Epoch 18/200\n",
      "15/15 [==============================] - 0s 4ms/step - loss: 0.6664 - accuracy: 0.6891 - val_loss: 0.6564 - val_accuracy: 0.7273\n",
      "Epoch 19/200\n",
      "15/15 [==============================] - 0s 5ms/step - loss: 0.6566 - accuracy: 0.6848 - val_loss: 0.6460 - val_accuracy: 0.7403\n",
      "Epoch 20/200\n",
      "15/15 [==============================] - 0s 5ms/step - loss: 0.6511 - accuracy: 0.6848 - val_loss: 0.6411 - val_accuracy: 0.7208\n",
      "Epoch 21/200\n",
      "15/15 [==============================] - 0s 5ms/step - loss: 0.6419 - accuracy: 0.6891 - val_loss: 0.6329 - val_accuracy: 0.7468\n",
      "Epoch 22/200\n",
      "15/15 [==============================] - 0s 5ms/step - loss: 0.6343 - accuracy: 0.6957 - val_loss: 0.6283 - val_accuracy: 0.7208\n",
      "Epoch 23/200\n",
      "15/15 [==============================] - 0s 3ms/step - loss: 0.6287 - accuracy: 0.6804 - val_loss: 0.6218 - val_accuracy: 0.7208\n",
      "Epoch 24/200\n",
      "15/15 [==============================] - 0s 5ms/step - loss: 0.6224 - accuracy: 0.7022 - val_loss: 0.6173 - val_accuracy: 0.7078\n",
      "Epoch 25/200\n",
      "15/15 [==============================] - 0s 5ms/step - loss: 0.6172 - accuracy: 0.7109 - val_loss: 0.6105 - val_accuracy: 0.7338\n",
      "Epoch 26/200\n",
      "15/15 [==============================] - 0s 5ms/step - loss: 0.6125 - accuracy: 0.7000 - val_loss: 0.6059 - val_accuracy: 0.7338\n",
      "Epoch 27/200\n",
      "15/15 [==============================] - 0s 5ms/step - loss: 0.6077 - accuracy: 0.7239 - val_loss: 0.6044 - val_accuracy: 0.7013\n",
      "Epoch 28/200\n",
      "15/15 [==============================] - 0s 3ms/step - loss: 0.6003 - accuracy: 0.7109 - val_loss: 0.5972 - val_accuracy: 0.7468\n",
      "Epoch 29/200\n",
      "15/15 [==============================] - 0s 4ms/step - loss: 0.5969 - accuracy: 0.7109 - val_loss: 0.5947 - val_accuracy: 0.7078\n",
      "Epoch 30/200\n",
      "15/15 [==============================] - 0s 5ms/step - loss: 0.5929 - accuracy: 0.7196 - val_loss: 0.5903 - val_accuracy: 0.7143\n",
      "Epoch 31/200\n",
      "15/15 [==============================] - 0s 4ms/step - loss: 0.5881 - accuracy: 0.7304 - val_loss: 0.5854 - val_accuracy: 0.7338\n",
      "Epoch 32/200\n",
      "15/15 [==============================] - 0s 4ms/step - loss: 0.5853 - accuracy: 0.7196 - val_loss: 0.5826 - val_accuracy: 0.7273\n",
      "Epoch 33/200\n",
      "15/15 [==============================] - 0s 4ms/step - loss: 0.5804 - accuracy: 0.7326 - val_loss: 0.5793 - val_accuracy: 0.7273\n",
      "Epoch 34/200\n",
      "15/15 [==============================] - 0s 5ms/step - loss: 0.5776 - accuracy: 0.7326 - val_loss: 0.5757 - val_accuracy: 0.7403\n",
      "Epoch 35/200\n",
      "15/15 [==============================] - 0s 5ms/step - loss: 0.5802 - accuracy: 0.7217 - val_loss: 0.5713 - val_accuracy: 0.7403\n",
      "Epoch 36/200\n",
      "15/15 [==============================] - 0s 5ms/step - loss: 0.5709 - accuracy: 0.7304 - val_loss: 0.5702 - val_accuracy: 0.7273\n",
      "Epoch 37/200\n",
      "15/15 [==============================] - 0s 3ms/step - loss: 0.5673 - accuracy: 0.7413 - val_loss: 0.5667 - val_accuracy: 0.7403\n",
      "Epoch 38/200\n",
      "15/15 [==============================] - 0s 5ms/step - loss: 0.5657 - accuracy: 0.7457 - val_loss: 0.5642 - val_accuracy: 0.7403\n",
      "Epoch 39/200\n",
      "15/15 [==============================] - 0s 4ms/step - loss: 0.5620 - accuracy: 0.7391 - val_loss: 0.5616 - val_accuracy: 0.7403\n",
      "Epoch 40/200\n",
      "15/15 [==============================] - 0s 5ms/step - loss: 0.5587 - accuracy: 0.7457 - val_loss: 0.5594 - val_accuracy: 0.7468\n",
      "Epoch 41/200\n",
      "15/15 [==============================] - 0s 4ms/step - loss: 0.5577 - accuracy: 0.7543 - val_loss: 0.5571 - val_accuracy: 0.7338\n",
      "Epoch 42/200\n",
      "15/15 [==============================] - 0s 4ms/step - loss: 0.5545 - accuracy: 0.7500 - val_loss: 0.5542 - val_accuracy: 0.7532\n",
      "Epoch 43/200\n",
      "15/15 [==============================] - 0s 4ms/step - loss: 0.5525 - accuracy: 0.7587 - val_loss: 0.5533 - val_accuracy: 0.7662\n",
      "Epoch 44/200\n",
      "15/15 [==============================] - 0s 4ms/step - loss: 0.5496 - accuracy: 0.7565 - val_loss: 0.5499 - val_accuracy: 0.7468\n",
      "Epoch 45/200\n",
      "15/15 [==============================] - 0s 4ms/step - loss: 0.5466 - accuracy: 0.7565 - val_loss: 0.5487 - val_accuracy: 0.7597\n",
      "Epoch 46/200\n",
      "15/15 [==============================] - 0s 5ms/step - loss: 0.5446 - accuracy: 0.7587 - val_loss: 0.5468 - val_accuracy: 0.7727\n",
      "Epoch 47/200\n",
      "15/15 [==============================] - 0s 5ms/step - loss: 0.5437 - accuracy: 0.7587 - val_loss: 0.5459 - val_accuracy: 0.7727\n",
      "Epoch 48/200\n",
      "15/15 [==============================] - 0s 5ms/step - loss: 0.5433 - accuracy: 0.7543 - val_loss: 0.5439 - val_accuracy: 0.7727\n",
      "Epoch 49/200\n",
      "15/15 [==============================] - 0s 5ms/step - loss: 0.5380 - accuracy: 0.7674 - val_loss: 0.5418 - val_accuracy: 0.7727\n",
      "Epoch 50/200\n",
      "15/15 [==============================] - 0s 4ms/step - loss: 0.5404 - accuracy: 0.7630 - val_loss: 0.5391 - val_accuracy: 0.7792\n",
      "Epoch 51/200\n",
      "15/15 [==============================] - 0s 4ms/step - loss: 0.5366 - accuracy: 0.7696 - val_loss: 0.5376 - val_accuracy: 0.7792\n",
      "Epoch 52/200\n",
      "15/15 [==============================] - 0s 4ms/step - loss: 0.5338 - accuracy: 0.7717 - val_loss: 0.5368 - val_accuracy: 0.7792\n",
      "Epoch 53/200\n",
      "15/15 [==============================] - 0s 4ms/step - loss: 0.5322 - accuracy: 0.7630 - val_loss: 0.5357 - val_accuracy: 0.7792\n",
      "Epoch 54/200\n",
      "15/15 [==============================] - 0s 3ms/step - loss: 0.5338 - accuracy: 0.7609 - val_loss: 0.5335 - val_accuracy: 0.7662\n",
      "Epoch 55/200\n",
      "15/15 [==============================] - 0s 4ms/step - loss: 0.5319 - accuracy: 0.7717 - val_loss: 0.5330 - val_accuracy: 0.7792\n",
      "Epoch 56/200\n",
      "15/15 [==============================] - 0s 5ms/step - loss: 0.5287 - accuracy: 0.7630 - val_loss: 0.5300 - val_accuracy: 0.7857\n",
      "Epoch 57/200\n",
      "15/15 [==============================] - 0s 5ms/step - loss: 0.5262 - accuracy: 0.7674 - val_loss: 0.5291 - val_accuracy: 0.7987\n",
      "Epoch 58/200\n",
      "15/15 [==============================] - 0s 3ms/step - loss: 0.5237 - accuracy: 0.7696 - val_loss: 0.5280 - val_accuracy: 0.7922\n",
      "Epoch 59/200\n",
      "15/15 [==============================] - 0s 5ms/step - loss: 0.5222 - accuracy: 0.7696 - val_loss: 0.5263 - val_accuracy: 0.7987\n",
      "Epoch 60/200\n",
      "15/15 [==============================] - 0s 3ms/step - loss: 0.5201 - accuracy: 0.7674 - val_loss: 0.5241 - val_accuracy: 0.7922\n",
      "Epoch 61/200\n",
      "15/15 [==============================] - 0s 4ms/step - loss: 0.5211 - accuracy: 0.7674 - val_loss: 0.5228 - val_accuracy: 0.7922\n",
      "Epoch 62/200\n",
      "15/15 [==============================] - 0s 5ms/step - loss: 0.5197 - accuracy: 0.7717 - val_loss: 0.5225 - val_accuracy: 0.7987\n",
      "Epoch 63/200\n",
      "15/15 [==============================] - 0s 4ms/step - loss: 0.5166 - accuracy: 0.7761 - val_loss: 0.5226 - val_accuracy: 0.7922\n",
      "Epoch 64/200\n",
      "15/15 [==============================] - 0s 4ms/step - loss: 0.5150 - accuracy: 0.7717 - val_loss: 0.5215 - val_accuracy: 0.7857\n",
      "Epoch 65/200\n",
      "15/15 [==============================] - 0s 5ms/step - loss: 0.5157 - accuracy: 0.7674 - val_loss: 0.5189 - val_accuracy: 0.7857\n",
      "Epoch 66/200\n",
      "15/15 [==============================] - 0s 5ms/step - loss: 0.5127 - accuracy: 0.7739 - val_loss: 0.5184 - val_accuracy: 0.8052\n",
      "Epoch 67/200\n",
      "15/15 [==============================] - 0s 5ms/step - loss: 0.5186 - accuracy: 0.7739 - val_loss: 0.5175 - val_accuracy: 0.8052\n",
      "Epoch 68/200\n",
      "15/15 [==============================] - 0s 4ms/step - loss: 0.5133 - accuracy: 0.7761 - val_loss: 0.5165 - val_accuracy: 0.8052\n",
      "Epoch 69/200\n",
      "15/15 [==============================] - 0s 4ms/step - loss: 0.5127 - accuracy: 0.7674 - val_loss: 0.5177 - val_accuracy: 0.7792\n",
      "Epoch 70/200\n",
      "15/15 [==============================] - 0s 4ms/step - loss: 0.5126 - accuracy: 0.7717 - val_loss: 0.5155 - val_accuracy: 0.8052\n",
      "Epoch 71/200\n",
      "15/15 [==============================] - 0s 5ms/step - loss: 0.5162 - accuracy: 0.7783 - val_loss: 0.5156 - val_accuracy: 0.7922\n",
      "Epoch 72/200\n",
      "15/15 [==============================] - 0s 5ms/step - loss: 0.5099 - accuracy: 0.7826 - val_loss: 0.5132 - val_accuracy: 0.7857\n",
      "Epoch 73/200\n",
      "15/15 [==============================] - 0s 5ms/step - loss: 0.5139 - accuracy: 0.7761 - val_loss: 0.5150 - val_accuracy: 0.8052\n",
      "Epoch 74/200\n",
      "15/15 [==============================] - 0s 4ms/step - loss: 0.5144 - accuracy: 0.7717 - val_loss: 0.5130 - val_accuracy: 0.7857\n",
      "Epoch 75/200\n",
      "15/15 [==============================] - 0s 5ms/step - loss: 0.5063 - accuracy: 0.7674 - val_loss: 0.5109 - val_accuracy: 0.7987\n",
      "Epoch 76/200\n",
      "15/15 [==============================] - 0s 4ms/step - loss: 0.5051 - accuracy: 0.7848 - val_loss: 0.5094 - val_accuracy: 0.7857\n",
      "Epoch 77/200\n",
      "15/15 [==============================] - 0s 4ms/step - loss: 0.5036 - accuracy: 0.7804 - val_loss: 0.5098 - val_accuracy: 0.8052\n",
      "Epoch 78/200\n",
      "15/15 [==============================] - 0s 4ms/step - loss: 0.5042 - accuracy: 0.7761 - val_loss: 0.5091 - val_accuracy: 0.7987\n",
      "Epoch 79/200\n",
      "15/15 [==============================] - 0s 5ms/step - loss: 0.5057 - accuracy: 0.7696 - val_loss: 0.5092 - val_accuracy: 0.7922\n",
      "Epoch 80/200\n",
      "15/15 [==============================] - 0s 4ms/step - loss: 0.4999 - accuracy: 0.7848 - val_loss: 0.5090 - val_accuracy: 0.8052\n",
      "Epoch 81/200\n",
      "15/15 [==============================] - 0s 3ms/step - loss: 0.5062 - accuracy: 0.7783 - val_loss: 0.5116 - val_accuracy: 0.7922\n",
      "Epoch 82/200\n",
      "15/15 [==============================] - 0s 4ms/step - loss: 0.5020 - accuracy: 0.7804 - val_loss: 0.5078 - val_accuracy: 0.7922\n",
      "Epoch 83/200\n",
      "15/15 [==============================] - 0s 4ms/step - loss: 0.4988 - accuracy: 0.7804 - val_loss: 0.5058 - val_accuracy: 0.7987\n",
      "Epoch 84/200\n",
      "15/15 [==============================] - 0s 3ms/step - loss: 0.4985 - accuracy: 0.7978 - val_loss: 0.5062 - val_accuracy: 0.8052\n",
      "Epoch 85/200\n",
      "15/15 [==============================] - 0s 5ms/step - loss: 0.5000 - accuracy: 0.7761 - val_loss: 0.5106 - val_accuracy: 0.7922\n",
      "Epoch 86/200\n",
      "15/15 [==============================] - 0s 5ms/step - loss: 0.5013 - accuracy: 0.7674 - val_loss: 0.5073 - val_accuracy: 0.8117\n",
      "Epoch 87/200\n",
      "15/15 [==============================] - 0s 4ms/step - loss: 0.5000 - accuracy: 0.7804 - val_loss: 0.5054 - val_accuracy: 0.8052\n",
      "Epoch 88/200\n",
      "15/15 [==============================] - 0s 5ms/step - loss: 0.4982 - accuracy: 0.7739 - val_loss: 0.5045 - val_accuracy: 0.7987\n",
      "Epoch 89/200\n",
      "15/15 [==============================] - 0s 5ms/step - loss: 0.4971 - accuracy: 0.7804 - val_loss: 0.5046 - val_accuracy: 0.8052\n",
      "Epoch 90/200\n",
      "15/15 [==============================] - 0s 3ms/step - loss: 0.4967 - accuracy: 0.7674 - val_loss: 0.5040 - val_accuracy: 0.7987\n",
      "Epoch 91/200\n",
      "15/15 [==============================] - 0s 5ms/step - loss: 0.4939 - accuracy: 0.7826 - val_loss: 0.5039 - val_accuracy: 0.7987\n",
      "Epoch 92/200\n",
      "15/15 [==============================] - 0s 5ms/step - loss: 0.4934 - accuracy: 0.7891 - val_loss: 0.5027 - val_accuracy: 0.8117\n",
      "Epoch 93/200\n",
      "15/15 [==============================] - 0s 3ms/step - loss: 0.4973 - accuracy: 0.7717 - val_loss: 0.5019 - val_accuracy: 0.8117\n",
      "Epoch 94/200\n",
      "15/15 [==============================] - 0s 4ms/step - loss: 0.4936 - accuracy: 0.7870 - val_loss: 0.5006 - val_accuracy: 0.8052\n",
      "Epoch 95/200\n",
      "15/15 [==============================] - 0s 4ms/step - loss: 0.4948 - accuracy: 0.7761 - val_loss: 0.5001 - val_accuracy: 0.7987\n",
      "Epoch 96/200\n",
      "15/15 [==============================] - 0s 4ms/step - loss: 0.4968 - accuracy: 0.7826 - val_loss: 0.4998 - val_accuracy: 0.8052\n",
      "Epoch 97/200\n",
      "15/15 [==============================] - 0s 4ms/step - loss: 0.4935 - accuracy: 0.7913 - val_loss: 0.4996 - val_accuracy: 0.8117\n",
      "Epoch 98/200\n",
      "15/15 [==============================] - 0s 4ms/step - loss: 0.4914 - accuracy: 0.7783 - val_loss: 0.4984 - val_accuracy: 0.8117\n",
      "Epoch 99/200\n",
      "15/15 [==============================] - 0s 3ms/step - loss: 0.4904 - accuracy: 0.7935 - val_loss: 0.4999 - val_accuracy: 0.8117\n",
      "Epoch 100/200\n",
      "15/15 [==============================] - 0s 5ms/step - loss: 0.4904 - accuracy: 0.7848 - val_loss: 0.4986 - val_accuracy: 0.8117\n",
      "Epoch 101/200\n",
      "15/15 [==============================] - 0s 4ms/step - loss: 0.4886 - accuracy: 0.7870 - val_loss: 0.4980 - val_accuracy: 0.8052\n",
      "Epoch 102/200\n",
      "15/15 [==============================] - 0s 4ms/step - loss: 0.4882 - accuracy: 0.7935 - val_loss: 0.4978 - val_accuracy: 0.8052\n",
      "Epoch 103/200\n",
      "15/15 [==============================] - 0s 4ms/step - loss: 0.4894 - accuracy: 0.7870 - val_loss: 0.4978 - val_accuracy: 0.8117\n",
      "Epoch 104/200\n",
      "15/15 [==============================] - 0s 3ms/step - loss: 0.4929 - accuracy: 0.7870 - val_loss: 0.4967 - val_accuracy: 0.7987\n",
      "Epoch 105/200\n",
      "15/15 [==============================] - 0s 5ms/step - loss: 0.4890 - accuracy: 0.7761 - val_loss: 0.4984 - val_accuracy: 0.8052\n",
      "Epoch 106/200\n",
      "15/15 [==============================] - 0s 3ms/step - loss: 0.4881 - accuracy: 0.7913 - val_loss: 0.4949 - val_accuracy: 0.8117\n",
      "Epoch 107/200\n",
      "15/15 [==============================] - 0s 5ms/step - loss: 0.4867 - accuracy: 0.7891 - val_loss: 0.4966 - val_accuracy: 0.8117\n",
      "Epoch 108/200\n",
      "15/15 [==============================] - 0s 3ms/step - loss: 0.4857 - accuracy: 0.7783 - val_loss: 0.4991 - val_accuracy: 0.8117\n",
      "Epoch 109/200\n",
      "15/15 [==============================] - 0s 6ms/step - loss: 0.4849 - accuracy: 0.7826 - val_loss: 0.4969 - val_accuracy: 0.7987\n",
      "Epoch 110/200\n",
      "15/15 [==============================] - 0s 5ms/step - loss: 0.4845 - accuracy: 0.7957 - val_loss: 0.4976 - val_accuracy: 0.8052\n",
      "Epoch 111/200\n",
      "15/15 [==============================] - 0s 4ms/step - loss: 0.4860 - accuracy: 0.7761 - val_loss: 0.4944 - val_accuracy: 0.8117\n",
      "Epoch 112/200\n",
      "15/15 [==============================] - 0s 4ms/step - loss: 0.4846 - accuracy: 0.7848 - val_loss: 0.4983 - val_accuracy: 0.8052\n",
      "Epoch 113/200\n",
      "15/15 [==============================] - 0s 3ms/step - loss: 0.4851 - accuracy: 0.7826 - val_loss: 0.4943 - val_accuracy: 0.8052\n",
      "Epoch 114/200\n",
      "15/15 [==============================] - 0s 4ms/step - loss: 0.4834 - accuracy: 0.7957 - val_loss: 0.4980 - val_accuracy: 0.8052\n",
      "Epoch 115/200\n",
      "15/15 [==============================] - 0s 5ms/step - loss: 0.4833 - accuracy: 0.7739 - val_loss: 0.4945 - val_accuracy: 0.8052\n",
      "Epoch 116/200\n",
      "15/15 [==============================] - 0s 5ms/step - loss: 0.4862 - accuracy: 0.7891 - val_loss: 0.4965 - val_accuracy: 0.8117\n",
      "Epoch 117/200\n",
      "15/15 [==============================] - 0s 4ms/step - loss: 0.4854 - accuracy: 0.7761 - val_loss: 0.4952 - val_accuracy: 0.7987\n",
      "Epoch 118/200\n",
      "15/15 [==============================] - 0s 5ms/step - loss: 0.4822 - accuracy: 0.8000 - val_loss: 0.4964 - val_accuracy: 0.8117\n",
      "Epoch 119/200\n",
      "15/15 [==============================] - 0s 5ms/step - loss: 0.4817 - accuracy: 0.7739 - val_loss: 0.4953 - val_accuracy: 0.8052\n",
      "Epoch 120/200\n",
      "15/15 [==============================] - 0s 5ms/step - loss: 0.4839 - accuracy: 0.7848 - val_loss: 0.4967 - val_accuracy: 0.8052\n",
      "Epoch 121/200\n",
      "15/15 [==============================] - 0s 4ms/step - loss: 0.4788 - accuracy: 0.7826 - val_loss: 0.4944 - val_accuracy: 0.7987\n",
      "Epoch 122/200\n",
      "15/15 [==============================] - 0s 5ms/step - loss: 0.4827 - accuracy: 0.8065 - val_loss: 0.4959 - val_accuracy: 0.8052\n",
      "Epoch 123/200\n",
      "15/15 [==============================] - 0s 5ms/step - loss: 0.4837 - accuracy: 0.7935 - val_loss: 0.4944 - val_accuracy: 0.7987\n",
      "Epoch 124/200\n",
      "15/15 [==============================] - 0s 4ms/step - loss: 0.4832 - accuracy: 0.7739 - val_loss: 0.4928 - val_accuracy: 0.8117\n",
      "Epoch 125/200\n",
      "15/15 [==============================] - 0s 5ms/step - loss: 0.4782 - accuracy: 0.7913 - val_loss: 0.4934 - val_accuracy: 0.7987\n",
      "Epoch 126/200\n",
      "15/15 [==============================] - 0s 4ms/step - loss: 0.4797 - accuracy: 0.7804 - val_loss: 0.4929 - val_accuracy: 0.8052\n",
      "Epoch 127/200\n",
      "15/15 [==============================] - 0s 4ms/step - loss: 0.4798 - accuracy: 0.7891 - val_loss: 0.4916 - val_accuracy: 0.8117\n",
      "Epoch 128/200\n",
      "15/15 [==============================] - 0s 5ms/step - loss: 0.4785 - accuracy: 0.7739 - val_loss: 0.4931 - val_accuracy: 0.8117\n",
      "Epoch 129/200\n",
      "15/15 [==============================] - 0s 5ms/step - loss: 0.4797 - accuracy: 0.7957 - val_loss: 0.4935 - val_accuracy: 0.8117\n",
      "Epoch 130/200\n",
      "15/15 [==============================] - 0s 4ms/step - loss: 0.4855 - accuracy: 0.7717 - val_loss: 0.4913 - val_accuracy: 0.7987\n",
      "Epoch 131/200\n",
      "15/15 [==============================] - 0s 4ms/step - loss: 0.4784 - accuracy: 0.7957 - val_loss: 0.4919 - val_accuracy: 0.8052\n",
      "Epoch 132/200\n",
      "15/15 [==============================] - 0s 3ms/step - loss: 0.4766 - accuracy: 0.7826 - val_loss: 0.4909 - val_accuracy: 0.8052\n",
      "Epoch 133/200\n",
      "15/15 [==============================] - 0s 4ms/step - loss: 0.4770 - accuracy: 0.7783 - val_loss: 0.4909 - val_accuracy: 0.7987\n",
      "Epoch 134/200\n",
      "15/15 [==============================] - 0s 4ms/step - loss: 0.4761 - accuracy: 0.7848 - val_loss: 0.4922 - val_accuracy: 0.8052\n",
      "Epoch 135/200\n",
      "15/15 [==============================] - 0s 3ms/step - loss: 0.4748 - accuracy: 0.7804 - val_loss: 0.4901 - val_accuracy: 0.8052\n",
      "Epoch 136/200\n",
      "15/15 [==============================] - 0s 5ms/step - loss: 0.4745 - accuracy: 0.7891 - val_loss: 0.4900 - val_accuracy: 0.8052\n",
      "Epoch 137/200\n",
      "15/15 [==============================] - 0s 5ms/step - loss: 0.4752 - accuracy: 0.7891 - val_loss: 0.4917 - val_accuracy: 0.8052\n",
      "Epoch 138/200\n",
      "15/15 [==============================] - 0s 5ms/step - loss: 0.4794 - accuracy: 0.7739 - val_loss: 0.4918 - val_accuracy: 0.7922\n",
      "Epoch 139/200\n",
      "15/15 [==============================] - 0s 5ms/step - loss: 0.4766 - accuracy: 0.7935 - val_loss: 0.4922 - val_accuracy: 0.8052\n",
      "Epoch 140/200\n",
      "15/15 [==============================] - 0s 4ms/step - loss: 0.4753 - accuracy: 0.7826 - val_loss: 0.4897 - val_accuracy: 0.7987\n",
      "Epoch 141/200\n",
      "15/15 [==============================] - 0s 4ms/step - loss: 0.4749 - accuracy: 0.7848 - val_loss: 0.4906 - val_accuracy: 0.8052\n",
      "Epoch 142/200\n",
      "15/15 [==============================] - 0s 4ms/step - loss: 0.4739 - accuracy: 0.7826 - val_loss: 0.4907 - val_accuracy: 0.8052\n",
      "Epoch 143/200\n",
      "15/15 [==============================] - 0s 4ms/step - loss: 0.4739 - accuracy: 0.7913 - val_loss: 0.4919 - val_accuracy: 0.8052\n",
      "Epoch 144/200\n",
      "15/15 [==============================] - 0s 5ms/step - loss: 0.4799 - accuracy: 0.7761 - val_loss: 0.4903 - val_accuracy: 0.7922\n",
      "Epoch 145/200\n",
      "15/15 [==============================] - 0s 4ms/step - loss: 0.4784 - accuracy: 0.7957 - val_loss: 0.4894 - val_accuracy: 0.8052\n",
      "Epoch 146/200\n",
      "15/15 [==============================] - 0s 4ms/step - loss: 0.4720 - accuracy: 0.7891 - val_loss: 0.4902 - val_accuracy: 0.7922\n",
      "Epoch 147/200\n",
      "15/15 [==============================] - 0s 3ms/step - loss: 0.4743 - accuracy: 0.8000 - val_loss: 0.4894 - val_accuracy: 0.8052\n",
      "Epoch 148/200\n",
      "15/15 [==============================] - 0s 4ms/step - loss: 0.4759 - accuracy: 0.7826 - val_loss: 0.4859 - val_accuracy: 0.7987\n",
      "Epoch 149/200\n",
      "15/15 [==============================] - 0s 4ms/step - loss: 0.4715 - accuracy: 0.7913 - val_loss: 0.4888 - val_accuracy: 0.7922\n",
      "Epoch 150/200\n",
      "15/15 [==============================] - 0s 4ms/step - loss: 0.4712 - accuracy: 0.7913 - val_loss: 0.4901 - val_accuracy: 0.8052\n",
      "Epoch 151/200\n",
      "15/15 [==============================] - 0s 4ms/step - loss: 0.4724 - accuracy: 0.7826 - val_loss: 0.4888 - val_accuracy: 0.8052\n",
      "Epoch 152/200\n",
      "15/15 [==============================] - 0s 4ms/step - loss: 0.4724 - accuracy: 0.7804 - val_loss: 0.4901 - val_accuracy: 0.8052\n",
      "Epoch 153/200\n",
      "15/15 [==============================] - 0s 4ms/step - loss: 0.4717 - accuracy: 0.7935 - val_loss: 0.4878 - val_accuracy: 0.7922\n",
      "Epoch 154/200\n",
      "15/15 [==============================] - 0s 4ms/step - loss: 0.4709 - accuracy: 0.7826 - val_loss: 0.4885 - val_accuracy: 0.8052\n",
      "Epoch 155/200\n",
      "15/15 [==============================] - 0s 4ms/step - loss: 0.4707 - accuracy: 0.7935 - val_loss: 0.4878 - val_accuracy: 0.8117\n",
      "Epoch 156/200\n",
      "15/15 [==============================] - 0s 4ms/step - loss: 0.4700 - accuracy: 0.7826 - val_loss: 0.4881 - val_accuracy: 0.7987\n",
      "Epoch 157/200\n",
      "15/15 [==============================] - 0s 4ms/step - loss: 0.4693 - accuracy: 0.7804 - val_loss: 0.4896 - val_accuracy: 0.7922\n",
      "Epoch 158/200\n",
      "15/15 [==============================] - 0s 5ms/step - loss: 0.4707 - accuracy: 0.7913 - val_loss: 0.4888 - val_accuracy: 0.7922\n",
      "Epoch 159/200\n",
      "15/15 [==============================] - 0s 5ms/step - loss: 0.4702 - accuracy: 0.7913 - val_loss: 0.4857 - val_accuracy: 0.8117\n",
      "Epoch 160/200\n",
      "15/15 [==============================] - 0s 5ms/step - loss: 0.4688 - accuracy: 0.7826 - val_loss: 0.4875 - val_accuracy: 0.8052\n",
      "Epoch 161/200\n",
      "15/15 [==============================] - 0s 5ms/step - loss: 0.4685 - accuracy: 0.7913 - val_loss: 0.4862 - val_accuracy: 0.8052\n",
      "Epoch 162/200\n",
      "15/15 [==============================] - 0s 4ms/step - loss: 0.4689 - accuracy: 0.7870 - val_loss: 0.4851 - val_accuracy: 0.7922\n",
      "Epoch 163/200\n",
      "15/15 [==============================] - 0s 4ms/step - loss: 0.4684 - accuracy: 0.7935 - val_loss: 0.4851 - val_accuracy: 0.8117\n",
      "Epoch 164/200\n",
      "15/15 [==============================] - 0s 4ms/step - loss: 0.4679 - accuracy: 0.7739 - val_loss: 0.4878 - val_accuracy: 0.7987\n",
      "Epoch 165/200\n",
      "15/15 [==============================] - 0s 4ms/step - loss: 0.4689 - accuracy: 0.7978 - val_loss: 0.4870 - val_accuracy: 0.7987\n",
      "Epoch 166/200\n",
      "15/15 [==============================] - 0s 4ms/step - loss: 0.4689 - accuracy: 0.7978 - val_loss: 0.4873 - val_accuracy: 0.8052\n",
      "Epoch 167/200\n",
      "15/15 [==============================] - 0s 3ms/step - loss: 0.4763 - accuracy: 0.7783 - val_loss: 0.4845 - val_accuracy: 0.7922\n",
      "Epoch 168/200\n",
      "15/15 [==============================] - 0s 5ms/step - loss: 0.4691 - accuracy: 0.7935 - val_loss: 0.4854 - val_accuracy: 0.7922\n",
      "Epoch 169/200\n",
      "15/15 [==============================] - 0s 4ms/step - loss: 0.4690 - accuracy: 0.7913 - val_loss: 0.4863 - val_accuracy: 0.7987\n",
      "Epoch 170/200\n",
      "15/15 [==============================] - 0s 4ms/step - loss: 0.4680 - accuracy: 0.7783 - val_loss: 0.4866 - val_accuracy: 0.7922\n",
      "Epoch 171/200\n",
      "15/15 [==============================] - 0s 4ms/step - loss: 0.4673 - accuracy: 0.7957 - val_loss: 0.4863 - val_accuracy: 0.8052\n",
      "Epoch 172/200\n",
      "15/15 [==============================] - 0s 5ms/step - loss: 0.4702 - accuracy: 0.7783 - val_loss: 0.4870 - val_accuracy: 0.7857\n",
      "Epoch 173/200\n",
      "15/15 [==============================] - 0s 5ms/step - loss: 0.4672 - accuracy: 0.8022 - val_loss: 0.4874 - val_accuracy: 0.7987\n",
      "Epoch 174/200\n",
      "15/15 [==============================] - 0s 5ms/step - loss: 0.4672 - accuracy: 0.7739 - val_loss: 0.4863 - val_accuracy: 0.7922\n",
      "Epoch 175/200\n",
      "15/15 [==============================] - 0s 4ms/step - loss: 0.4691 - accuracy: 0.7913 - val_loss: 0.4851 - val_accuracy: 0.8117\n",
      "Epoch 176/200\n",
      "15/15 [==============================] - 0s 5ms/step - loss: 0.4709 - accuracy: 0.7870 - val_loss: 0.4886 - val_accuracy: 0.7922\n",
      "Epoch 177/200\n",
      "15/15 [==============================] - 0s 3ms/step - loss: 0.4694 - accuracy: 0.7739 - val_loss: 0.4855 - val_accuracy: 0.8052\n",
      "Epoch 178/200\n",
      "15/15 [==============================] - 0s 5ms/step - loss: 0.4701 - accuracy: 0.8000 - val_loss: 0.4861 - val_accuracy: 0.7922\n",
      "Epoch 179/200\n",
      "15/15 [==============================] - 0s 4ms/step - loss: 0.4657 - accuracy: 0.7957 - val_loss: 0.4841 - val_accuracy: 0.7922\n",
      "Epoch 180/200\n",
      "15/15 [==============================] - 0s 5ms/step - loss: 0.4650 - accuracy: 0.7826 - val_loss: 0.4854 - val_accuracy: 0.8117\n",
      "Epoch 181/200\n",
      "15/15 [==============================] - 0s 3ms/step - loss: 0.4656 - accuracy: 0.7935 - val_loss: 0.4854 - val_accuracy: 0.8117\n",
      "Epoch 182/200\n",
      "15/15 [==============================] - 0s 3ms/step - loss: 0.4660 - accuracy: 0.7848 - val_loss: 0.4879 - val_accuracy: 0.8117\n",
      "Epoch 183/200\n",
      "15/15 [==============================] - 0s 5ms/step - loss: 0.4663 - accuracy: 0.7891 - val_loss: 0.4871 - val_accuracy: 0.7857\n",
      "Epoch 184/200\n",
      "15/15 [==============================] - 0s 5ms/step - loss: 0.4665 - accuracy: 0.7913 - val_loss: 0.4856 - val_accuracy: 0.7987\n",
      "Epoch 185/200\n",
      "15/15 [==============================] - 0s 4ms/step - loss: 0.4634 - accuracy: 0.7826 - val_loss: 0.4848 - val_accuracy: 0.7857\n",
      "Epoch 186/200\n",
      "15/15 [==============================] - 0s 5ms/step - loss: 0.4656 - accuracy: 0.7804 - val_loss: 0.4848 - val_accuracy: 0.8117\n",
      "Epoch 187/200\n",
      "15/15 [==============================] - 0s 4ms/step - loss: 0.4636 - accuracy: 0.7935 - val_loss: 0.4834 - val_accuracy: 0.7922\n",
      "Epoch 188/200\n",
      "15/15 [==============================] - 0s 4ms/step - loss: 0.4664 - accuracy: 0.7913 - val_loss: 0.4848 - val_accuracy: 0.7987\n",
      "Epoch 189/200\n",
      "15/15 [==============================] - 0s 6ms/step - loss: 0.4684 - accuracy: 0.7739 - val_loss: 0.4848 - val_accuracy: 0.7922\n",
      "Epoch 190/200\n",
      "15/15 [==============================] - 0s 4ms/step - loss: 0.4631 - accuracy: 0.7957 - val_loss: 0.4860 - val_accuracy: 0.8117\n",
      "Epoch 191/200\n",
      "15/15 [==============================] - 0s 4ms/step - loss: 0.4659 - accuracy: 0.7826 - val_loss: 0.4868 - val_accuracy: 0.7922\n",
      "Epoch 192/200\n",
      "15/15 [==============================] - 0s 4ms/step - loss: 0.4647 - accuracy: 0.8000 - val_loss: 0.4838 - val_accuracy: 0.7922\n",
      "Epoch 193/200\n",
      "15/15 [==============================] - 0s 4ms/step - loss: 0.4636 - accuracy: 0.7891 - val_loss: 0.4851 - val_accuracy: 0.7987\n",
      "Epoch 194/200\n",
      "15/15 [==============================] - 0s 4ms/step - loss: 0.4641 - accuracy: 0.7891 - val_loss: 0.4829 - val_accuracy: 0.7922\n",
      "Epoch 195/200\n",
      "15/15 [==============================] - 0s 6ms/step - loss: 0.4630 - accuracy: 0.7891 - val_loss: 0.4828 - val_accuracy: 0.8052\n",
      "Epoch 196/200\n",
      "15/15 [==============================] - 0s 4ms/step - loss: 0.4623 - accuracy: 0.7957 - val_loss: 0.4842 - val_accuracy: 0.7987\n",
      "Epoch 197/200\n",
      "15/15 [==============================] - 0s 5ms/step - loss: 0.4624 - accuracy: 0.7935 - val_loss: 0.4847 - val_accuracy: 0.8117\n",
      "Epoch 198/200\n",
      "15/15 [==============================] - 0s 5ms/step - loss: 0.4646 - accuracy: 0.7978 - val_loss: 0.4830 - val_accuracy: 0.7922\n",
      "Epoch 199/200\n",
      "15/15 [==============================] - 0s 4ms/step - loss: 0.4644 - accuracy: 0.7826 - val_loss: 0.4816 - val_accuracy: 0.8052\n",
      "Epoch 200/200\n",
      "15/15 [==============================] - 0s 4ms/step - loss: 0.4615 - accuracy: 0.7978 - val_loss: 0.4808 - val_accuracy: 0.8052\n"
     ]
    }
   ],
   "source": [
    "history = model.fit(X_train, y_train, epochs=200, batch_size=32, verbose = 1, validation_data=(X_test, y_test))"
   ]
  },
  {
   "cell_type": "code",
   "execution_count": null,
   "metadata": {
    "colab": {
     "base_uri": "https://localhost:8080/",
     "height": 295
    },
    "id": "9wgRJ5913ZUO",
    "outputId": "bf5af57b-6d23-438e-d80f-39856d0ce69b"
   },
   "outputs": [
    {
     "data": {
      "image/png": "[encoded data removed]",
      "text/plain": [
       "<Figure size 432x288 with 1 Axes>"
      ]
     },
     "metadata": {
      "needs_background": "light"
     },
     "output_type": "display_data"
    }
   ],
   "source": [
    "loss_train = history.history['loss']\n",
    "loss_val = history.history['val_loss']\n",
    "epochs = range(1,201)\n",
    "plt.plot(epochs, loss_train, 'g', label='Training loss')\n",
    "plt.plot(epochs, loss_val, 'b', label='validation loss')\n",
    "plt.title('Training and Validation loss')\n",
    "plt.xlabel('Epoch')\n",
    "plt.ylabel('loss')\n",
    "plt.legend()\n",
    "plt.show()"
   ]
  },
  {
   "cell_type": "code",
   "execution_count": null,
   "metadata": {
    "colab": {
     "base_uri": "https://localhost:8080/",
     "height": 295
    },
    "id": "sfMDqkHq5va0",
    "outputId": "c3f69b36-1534-41e3-d5e6-b7723f9505a3"
   },
   "outputs": [
    {
     "data": {
      "image/png": "[encoded data removed]",
      "text/plain": [
       "<Figure size 432x288 with 1 Axes>"
      ]
     },
     "metadata": {
      "needs_background": "light"
     },
     "output_type": "display_data"
    }
   ],
   "source": [
    "loss_train = history.history['accuracy']\n",
    "loss_val = history.history['val_accuracy']\n",
    "epochs = range(1,201)\n",
    "plt.plot(epochs, loss_train, 'g', label='Training acc')\n",
    "plt.plot(epochs, loss_val, 'b', label='validation acc')\n",
    "plt.title('Training and Validation acc')\n",
    "plt.xlabel('Epoch')\n",
    "plt.ylabel('Acc')\n",
    "plt.legend()\n",
    "plt.show()"
   ]
  },
  {
   "cell_type": "code",
   "execution_count": null,
   "metadata": {
    "colab": {
     "base_uri": "https://localhost:8080/"
    },
    "id": "0G4ipYcb6R8L",
    "outputId": "de96c76d-f7d8-43f6-9d79-a2b2d420ec52"
   },
   "outputs": [
    {
     "name": "stdout",
     "output_type": "stream",
     "text": [
      "6/6 [==============================] - 0s 2ms/step - loss: 0.4808 - accuracy: 0.8052\n"
     ]
    }
   ],
   "source": [
    "loss = model.evaluate(X_test, y_test, verbose=1, batch_size=30)"
   ]
  },
  {
   "cell_type": "code",
   "execution_count": null,
   "metadata": {
    "id": "d2mDt1Xj6jNv"
   },
   "outputs": [],
   "source": [
    "model2 = Sequential()"
   ]
  },
  {
   "cell_type": "code",
   "execution_count": null,
   "metadata": {
    "colab": {
     "base_uri": "https://localhost:8080/"
    },
    "id": "zYNL70qQ67Ah",
    "outputId": "4691941a-f4ec-4631-8276-6379fc8dc224"
   },
   "outputs": [
    {
     "name": "stdout",
     "output_type": "stream",
     "text": [
      "Model: \"sequential_21\"\n",
      "_________________________________________________________________\n",
      "Layer (type)                 Output Shape              Param #   \n",
      "=================================================================\n",
      "dense_88 (Dense)             (None, 24)                216       \n",
      "_________________________________________________________________\n",
      "dense_89 (Dense)             (None, 12)                300       \n",
      "_________________________________________________________________\n",
      "dropout_14 (Dropout)         (None, 12)                0         \n",
      "_________________________________________________________________\n",
      "dense_90 (Dense)             (None, 12)                156       \n",
      "_________________________________________________________________\n",
      "dropout_15 (Dropout)         (None, 12)                0         \n",
      "_________________________________________________________________\n",
      "dense_91 (Dense)             (None, 1)                 13        \n",
      "=================================================================\n",
      "Total params: 685\n",
      "Trainable params: 685\n",
      "Non-trainable params: 0\n",
      "_________________________________________________________________\n",
      "None\n"
     ]
    }
   ],
   "source": [
    "model2.add(Dense(24, input_dim = (8), activation = 'relu'))\n",
    "model2.add(Dense(12, activation = 'relu'))\n",
    "model2.add(Dropout(0.25))\n",
    "model2.add(Dense(12, activation = 'relu'))\n",
    "model2.add(Dropout(0.25))\n",
    "model2.add(Dense(1, activation = 'sigmoid'))\n",
    "\n",
    "print(model2.summary())"
   ]
  },
  {
   "cell_type": "code",
   "execution_count": null,
   "metadata": {
    "id": "abaqaN8X7IPS"
   },
   "outputs": [],
   "source": [
    "model2.compile(optimizer = 'adam', loss = 'binary_crossentropy', metrics = ['accuracy'])"
   ]
  },
  {
   "cell_type": "code",
   "execution_count": null,
   "metadata": {
    "colab": {
     "base_uri": "https://localhost:8080/"
    },
    "id": "BUtiXQ0w7cqk",
    "outputId": "cdf4fa4c-c216-4c2e-db53-0e18c0d75a02"
   },
   "outputs": [
    {
     "name": "stdout",
     "output_type": "stream",
     "text": [
      "Epoch 1/200\n",
      "15/15 [==============================] - 1s 15ms/step - loss: 0.7005 - accuracy: 0.4174 - val_loss: 0.6942 - val_accuracy: 0.4091\n",
      "Epoch 2/200\n",
      "15/15 [==============================] - 0s 6ms/step - loss: 0.6892 - accuracy: 0.5957 - val_loss: 0.6870 - val_accuracy: 0.6948\n",
      "Epoch 3/200\n",
      "15/15 [==============================] - 0s 4ms/step - loss: 0.6843 - accuracy: 0.6935 - val_loss: 0.6834 - val_accuracy: 0.6818\n",
      "Epoch 4/200\n",
      "15/15 [==============================] - 0s 5ms/step - loss: 0.6807 - accuracy: 0.6739 - val_loss: 0.6781 - val_accuracy: 0.6623\n",
      "Epoch 5/200\n",
      "15/15 [==============================] - 0s 5ms/step - loss: 0.6744 - accuracy: 0.6783 - val_loss: 0.6685 - val_accuracy: 0.6623\n",
      "Epoch 6/200\n",
      "15/15 [==============================] - 0s 5ms/step - loss: 0.6664 - accuracy: 0.6587 - val_loss: 0.6543 - val_accuracy: 0.6753\n",
      "Epoch 7/200\n",
      "15/15 [==============================] - 0s 5ms/step - loss: 0.6557 - accuracy: 0.6478 - val_loss: 0.6449 - val_accuracy: 0.6753\n",
      "Epoch 8/200\n",
      "15/15 [==============================] - 0s 4ms/step - loss: 0.6506 - accuracy: 0.6500 - val_loss: 0.6366 - val_accuracy: 0.6753\n",
      "Epoch 9/200\n",
      "15/15 [==============================] - 0s 5ms/step - loss: 0.6425 - accuracy: 0.6565 - val_loss: 0.6294 - val_accuracy: 0.6623\n",
      "Epoch 10/200\n",
      "15/15 [==============================] - 0s 4ms/step - loss: 0.6482 - accuracy: 0.6674 - val_loss: 0.6238 - val_accuracy: 0.6558\n",
      "Epoch 11/200\n",
      "15/15 [==============================] - 0s 4ms/step - loss: 0.6294 - accuracy: 0.6674 - val_loss: 0.6172 - val_accuracy: 0.6623\n",
      "Epoch 12/200\n",
      "15/15 [==============================] - 0s 5ms/step - loss: 0.6287 - accuracy: 0.6565 - val_loss: 0.6112 - val_accuracy: 0.6688\n",
      "Epoch 13/200\n",
      "15/15 [==============================] - 0s 3ms/step - loss: 0.6261 - accuracy: 0.6652 - val_loss: 0.6050 - val_accuracy: 0.6818\n",
      "Epoch 14/200\n",
      "15/15 [==============================] - 0s 5ms/step - loss: 0.6101 - accuracy: 0.6848 - val_loss: 0.6019 - val_accuracy: 0.6948\n",
      "Epoch 15/200\n",
      "15/15 [==============================] - 0s 3ms/step - loss: 0.6111 - accuracy: 0.6739 - val_loss: 0.5953 - val_accuracy: 0.6948\n",
      "Epoch 16/200\n",
      "15/15 [==============================] - 0s 4ms/step - loss: 0.6077 - accuracy: 0.6826 - val_loss: 0.5889 - val_accuracy: 0.7078\n",
      "Epoch 17/200\n",
      "15/15 [==============================] - 0s 5ms/step - loss: 0.5960 - accuracy: 0.6739 - val_loss: 0.5804 - val_accuracy: 0.7208\n",
      "Epoch 18/200\n",
      "15/15 [==============================] - 0s 5ms/step - loss: 0.6095 - accuracy: 0.6630 - val_loss: 0.5733 - val_accuracy: 0.7403\n",
      "Epoch 19/200\n",
      "15/15 [==============================] - 0s 4ms/step - loss: 0.5885 - accuracy: 0.6804 - val_loss: 0.5673 - val_accuracy: 0.7468\n",
      "Epoch 20/200\n",
      "15/15 [==============================] - 0s 4ms/step - loss: 0.5954 - accuracy: 0.6913 - val_loss: 0.5630 - val_accuracy: 0.7078\n",
      "Epoch 21/200\n",
      "15/15 [==============================] - 0s 5ms/step - loss: 0.5712 - accuracy: 0.7109 - val_loss: 0.5549 - val_accuracy: 0.7208\n",
      "Epoch 22/200\n",
      "15/15 [==============================] - 0s 5ms/step - loss: 0.5739 - accuracy: 0.6978 - val_loss: 0.5490 - val_accuracy: 0.7273\n",
      "Epoch 23/200\n",
      "15/15 [==============================] - 0s 4ms/step - loss: 0.5715 - accuracy: 0.7000 - val_loss: 0.5461 - val_accuracy: 0.7208\n",
      "Epoch 24/200\n",
      "15/15 [==============================] - 0s 6ms/step - loss: 0.5419 - accuracy: 0.7239 - val_loss: 0.5393 - val_accuracy: 0.7273\n",
      "Epoch 25/200\n",
      "15/15 [==============================] - 0s 5ms/step - loss: 0.5582 - accuracy: 0.7196 - val_loss: 0.5325 - val_accuracy: 0.7273\n",
      "Epoch 26/200\n",
      "15/15 [==============================] - 0s 5ms/step - loss: 0.5522 - accuracy: 0.7239 - val_loss: 0.5286 - val_accuracy: 0.7208\n",
      "Epoch 27/200\n",
      "15/15 [==============================] - 0s 4ms/step - loss: 0.5467 - accuracy: 0.7391 - val_loss: 0.5252 - val_accuracy: 0.7403\n",
      "Epoch 28/200\n",
      "15/15 [==============================] - 0s 4ms/step - loss: 0.5412 - accuracy: 0.7152 - val_loss: 0.5196 - val_accuracy: 0.7338\n",
      "Epoch 29/200\n",
      "15/15 [==============================] - 0s 4ms/step - loss: 0.5442 - accuracy: 0.7152 - val_loss: 0.5162 - val_accuracy: 0.7662\n",
      "Epoch 30/200\n",
      "15/15 [==============================] - 0s 4ms/step - loss: 0.5286 - accuracy: 0.7370 - val_loss: 0.5155 - val_accuracy: 0.7273\n",
      "Epoch 31/200\n",
      "15/15 [==============================] - 0s 5ms/step - loss: 0.5169 - accuracy: 0.7543 - val_loss: 0.5078 - val_accuracy: 0.7338\n",
      "Epoch 32/200\n",
      "15/15 [==============================] - 0s 5ms/step - loss: 0.5267 - accuracy: 0.7370 - val_loss: 0.5065 - val_accuracy: 0.7727\n",
      "Epoch 33/200\n",
      "15/15 [==============================] - 0s 4ms/step - loss: 0.5497 - accuracy: 0.7413 - val_loss: 0.5069 - val_accuracy: 0.7403\n",
      "Epoch 34/200\n",
      "15/15 [==============================] - 0s 5ms/step - loss: 0.5062 - accuracy: 0.7565 - val_loss: 0.5041 - val_accuracy: 0.7468\n",
      "Epoch 35/200\n",
      "15/15 [==============================] - 0s 5ms/step - loss: 0.5307 - accuracy: 0.7261 - val_loss: 0.5003 - val_accuracy: 0.7597\n",
      "Epoch 36/200\n",
      "15/15 [==============================] - 0s 5ms/step - loss: 0.5245 - accuracy: 0.7457 - val_loss: 0.5024 - val_accuracy: 0.7597\n",
      "Epoch 37/200\n",
      "15/15 [==============================] - 0s 5ms/step - loss: 0.5215 - accuracy: 0.7457 - val_loss: 0.5031 - val_accuracy: 0.7403\n",
      "Epoch 38/200\n",
      "15/15 [==============================] - 0s 4ms/step - loss: 0.5135 - accuracy: 0.7457 - val_loss: 0.4998 - val_accuracy: 0.7727\n",
      "Epoch 39/200\n",
      "15/15 [==============================] - 0s 4ms/step - loss: 0.5121 - accuracy: 0.7196 - val_loss: 0.4948 - val_accuracy: 0.7662\n",
      "Epoch 40/200\n",
      "15/15 [==============================] - 0s 4ms/step - loss: 0.5009 - accuracy: 0.7500 - val_loss: 0.4915 - val_accuracy: 0.7792\n",
      "Epoch 41/200\n",
      "15/15 [==============================] - 0s 5ms/step - loss: 0.5081 - accuracy: 0.7391 - val_loss: 0.4890 - val_accuracy: 0.7792\n",
      "Epoch 42/200\n",
      "15/15 [==============================] - 0s 3ms/step - loss: 0.5046 - accuracy: 0.7478 - val_loss: 0.4888 - val_accuracy: 0.7792\n",
      "Epoch 43/200\n",
      "15/15 [==============================] - 0s 5ms/step - loss: 0.5056 - accuracy: 0.7543 - val_loss: 0.4911 - val_accuracy: 0.7662\n",
      "Epoch 44/200\n",
      "15/15 [==============================] - 0s 4ms/step - loss: 0.5105 - accuracy: 0.7565 - val_loss: 0.4859 - val_accuracy: 0.7662\n",
      "Epoch 45/200\n",
      "15/15 [==============================] - 0s 5ms/step - loss: 0.5064 - accuracy: 0.7587 - val_loss: 0.4828 - val_accuracy: 0.7662\n",
      "Epoch 46/200\n",
      "15/15 [==============================] - 0s 4ms/step - loss: 0.5019 - accuracy: 0.7413 - val_loss: 0.4810 - val_accuracy: 0.7662\n",
      "Epoch 47/200\n",
      "15/15 [==============================] - 0s 4ms/step - loss: 0.4950 - accuracy: 0.7565 - val_loss: 0.4799 - val_accuracy: 0.7597\n",
      "Epoch 48/200\n",
      "15/15 [==============================] - 0s 4ms/step - loss: 0.4940 - accuracy: 0.7391 - val_loss: 0.4792 - val_accuracy: 0.7662\n",
      "Epoch 49/200\n",
      "15/15 [==============================] - 0s 3ms/step - loss: 0.4906 - accuracy: 0.7478 - val_loss: 0.4831 - val_accuracy: 0.7597\n",
      "Epoch 50/200\n",
      "15/15 [==============================] - 0s 5ms/step - loss: 0.4803 - accuracy: 0.7848 - val_loss: 0.4778 - val_accuracy: 0.7857\n",
      "Epoch 51/200\n",
      "15/15 [==============================] - 0s 4ms/step - loss: 0.4854 - accuracy: 0.7630 - val_loss: 0.4783 - val_accuracy: 0.7727\n",
      "Epoch 52/200\n",
      "15/15 [==============================] - 0s 5ms/step - loss: 0.4862 - accuracy: 0.7587 - val_loss: 0.4774 - val_accuracy: 0.7532\n",
      "Epoch 53/200\n",
      "15/15 [==============================] - 0s 5ms/step - loss: 0.4930 - accuracy: 0.7696 - val_loss: 0.4781 - val_accuracy: 0.7468\n",
      "Epoch 54/200\n",
      "15/15 [==============================] - 0s 3ms/step - loss: 0.4791 - accuracy: 0.7761 - val_loss: 0.4713 - val_accuracy: 0.7662\n",
      "Epoch 55/200\n",
      "15/15 [==============================] - 0s 3ms/step - loss: 0.4789 - accuracy: 0.7804 - val_loss: 0.4711 - val_accuracy: 0.7792\n",
      "Epoch 56/200\n",
      "15/15 [==============================] - 0s 5ms/step - loss: 0.4778 - accuracy: 0.7891 - val_loss: 0.4746 - val_accuracy: 0.7597\n",
      "Epoch 57/200\n",
      "15/15 [==============================] - 0s 4ms/step - loss: 0.4651 - accuracy: 0.7739 - val_loss: 0.4721 - val_accuracy: 0.7727\n",
      "Epoch 58/200\n",
      "15/15 [==============================] - 0s 3ms/step - loss: 0.4780 - accuracy: 0.7696 - val_loss: 0.4751 - val_accuracy: 0.7597\n",
      "Epoch 59/200\n",
      "15/15 [==============================] - 0s 4ms/step - loss: 0.4753 - accuracy: 0.7826 - val_loss: 0.4712 - val_accuracy: 0.7792\n",
      "Epoch 60/200\n",
      "15/15 [==============================] - 0s 3ms/step - loss: 0.4850 - accuracy: 0.7761 - val_loss: 0.4707 - val_accuracy: 0.7727\n",
      "Epoch 61/200\n",
      "15/15 [==============================] - 0s 5ms/step - loss: 0.4646 - accuracy: 0.7804 - val_loss: 0.4689 - val_accuracy: 0.7857\n",
      "Epoch 62/200\n",
      "15/15 [==============================] - 0s 4ms/step - loss: 0.4664 - accuracy: 0.7783 - val_loss: 0.4669 - val_accuracy: 0.7857\n",
      "Epoch 63/200\n",
      "15/15 [==============================] - 0s 5ms/step - loss: 0.4661 - accuracy: 0.7783 - val_loss: 0.4667 - val_accuracy: 0.7857\n",
      "Epoch 64/200\n",
      "15/15 [==============================] - 0s 5ms/step - loss: 0.4648 - accuracy: 0.7804 - val_loss: 0.4682 - val_accuracy: 0.7792\n",
      "Epoch 65/200\n",
      "15/15 [==============================] - 0s 4ms/step - loss: 0.4619 - accuracy: 0.7826 - val_loss: 0.4747 - val_accuracy: 0.7727\n",
      "Epoch 66/200\n",
      "15/15 [==============================] - 0s 5ms/step - loss: 0.4887 - accuracy: 0.7652 - val_loss: 0.4664 - val_accuracy: 0.7792\n",
      "Epoch 67/200\n",
      "15/15 [==============================] - 0s 4ms/step - loss: 0.4709 - accuracy: 0.7717 - val_loss: 0.4679 - val_accuracy: 0.7727\n",
      "Epoch 68/200\n",
      "15/15 [==============================] - 0s 3ms/step - loss: 0.4607 - accuracy: 0.7804 - val_loss: 0.4674 - val_accuracy: 0.7857\n",
      "Epoch 69/200\n",
      "15/15 [==============================] - 0s 4ms/step - loss: 0.4884 - accuracy: 0.7609 - val_loss: 0.4659 - val_accuracy: 0.7857\n",
      "Epoch 70/200\n",
      "15/15 [==============================] - 0s 4ms/step - loss: 0.4579 - accuracy: 0.7696 - val_loss: 0.4679 - val_accuracy: 0.7597\n",
      "Epoch 71/200\n",
      "15/15 [==============================] - 0s 4ms/step - loss: 0.4684 - accuracy: 0.7674 - val_loss: 0.4643 - val_accuracy: 0.7857\n",
      "Epoch 72/200\n",
      "15/15 [==============================] - 0s 4ms/step - loss: 0.4715 - accuracy: 0.7804 - val_loss: 0.4655 - val_accuracy: 0.7597\n",
      "Epoch 73/200\n",
      "15/15 [==============================] - 0s 4ms/step - loss: 0.4680 - accuracy: 0.7652 - val_loss: 0.4659 - val_accuracy: 0.7792\n",
      "Epoch 74/200\n",
      "15/15 [==============================] - 0s 4ms/step - loss: 0.4552 - accuracy: 0.7804 - val_loss: 0.4731 - val_accuracy: 0.7792\n",
      "Epoch 75/200\n",
      "15/15 [==============================] - 0s 4ms/step - loss: 0.4722 - accuracy: 0.7804 - val_loss: 0.4623 - val_accuracy: 0.7792\n",
      "Epoch 76/200\n",
      "15/15 [==============================] - 0s 5ms/step - loss: 0.4450 - accuracy: 0.7848 - val_loss: 0.4603 - val_accuracy: 0.7922\n",
      "Epoch 77/200\n",
      "15/15 [==============================] - 0s 5ms/step - loss: 0.4779 - accuracy: 0.7826 - val_loss: 0.4609 - val_accuracy: 0.7857\n",
      "Epoch 78/200\n",
      "15/15 [==============================] - 0s 3ms/step - loss: 0.4854 - accuracy: 0.7739 - val_loss: 0.4604 - val_accuracy: 0.7792\n",
      "Epoch 79/200\n",
      "15/15 [==============================] - 0s 5ms/step - loss: 0.4582 - accuracy: 0.7826 - val_loss: 0.4615 - val_accuracy: 0.7792\n",
      "Epoch 80/200\n",
      "15/15 [==============================] - 0s 5ms/step - loss: 0.4570 - accuracy: 0.7804 - val_loss: 0.4620 - val_accuracy: 0.7792\n",
      "Epoch 81/200\n",
      "15/15 [==============================] - 0s 4ms/step - loss: 0.4525 - accuracy: 0.7804 - val_loss: 0.4621 - val_accuracy: 0.7792\n",
      "Epoch 82/200\n",
      "15/15 [==============================] - 0s 4ms/step - loss: 0.4646 - accuracy: 0.7652 - val_loss: 0.4608 - val_accuracy: 0.7857\n",
      "Epoch 83/200\n",
      "15/15 [==============================] - 0s 3ms/step - loss: 0.4517 - accuracy: 0.7913 - val_loss: 0.4637 - val_accuracy: 0.7727\n",
      "Epoch 84/200\n",
      "15/15 [==============================] - 0s 5ms/step - loss: 0.4513 - accuracy: 0.7826 - val_loss: 0.4602 - val_accuracy: 0.7727\n",
      "Epoch 85/200\n",
      "15/15 [==============================] - 0s 5ms/step - loss: 0.4551 - accuracy: 0.7870 - val_loss: 0.4630 - val_accuracy: 0.7792\n",
      "Epoch 86/200\n",
      "15/15 [==============================] - 0s 3ms/step - loss: 0.4657 - accuracy: 0.7935 - val_loss: 0.4623 - val_accuracy: 0.7727\n",
      "Epoch 87/200\n",
      "15/15 [==============================] - 0s 5ms/step - loss: 0.4514 - accuracy: 0.7913 - val_loss: 0.4638 - val_accuracy: 0.7792\n",
      "Epoch 88/200\n",
      "15/15 [==============================] - 0s 4ms/step - loss: 0.4773 - accuracy: 0.7500 - val_loss: 0.4643 - val_accuracy: 0.7727\n",
      "Epoch 89/200\n",
      "15/15 [==============================] - 0s 5ms/step - loss: 0.4735 - accuracy: 0.7848 - val_loss: 0.4610 - val_accuracy: 0.7792\n",
      "Epoch 90/200\n",
      "15/15 [==============================] - 0s 4ms/step - loss: 0.4647 - accuracy: 0.7848 - val_loss: 0.4590 - val_accuracy: 0.7792\n",
      "Epoch 91/200\n",
      "15/15 [==============================] - 0s 4ms/step - loss: 0.4554 - accuracy: 0.7957 - val_loss: 0.4638 - val_accuracy: 0.7662\n",
      "Epoch 92/200\n",
      "15/15 [==============================] - 0s 3ms/step - loss: 0.4532 - accuracy: 0.7891 - val_loss: 0.4578 - val_accuracy: 0.7792\n",
      "Epoch 93/200\n",
      "15/15 [==============================] - 0s 4ms/step - loss: 0.4370 - accuracy: 0.8109 - val_loss: 0.4581 - val_accuracy: 0.7727\n",
      "Epoch 94/200\n",
      "15/15 [==============================] - 0s 5ms/step - loss: 0.4435 - accuracy: 0.7891 - val_loss: 0.4598 - val_accuracy: 0.7727\n",
      "Epoch 95/200\n",
      "15/15 [==============================] - 0s 4ms/step - loss: 0.4628 - accuracy: 0.7826 - val_loss: 0.4581 - val_accuracy: 0.7792\n",
      "Epoch 96/200\n",
      "15/15 [==============================] - 0s 4ms/step - loss: 0.4551 - accuracy: 0.7826 - val_loss: 0.4571 - val_accuracy: 0.7857\n",
      "Epoch 97/200\n",
      "15/15 [==============================] - 0s 4ms/step - loss: 0.4607 - accuracy: 0.8022 - val_loss: 0.4592 - val_accuracy: 0.7792\n",
      "Epoch 98/200\n",
      "15/15 [==============================] - 0s 4ms/step - loss: 0.4584 - accuracy: 0.7935 - val_loss: 0.4548 - val_accuracy: 0.7727\n",
      "Epoch 99/200\n",
      "15/15 [==============================] - 0s 3ms/step - loss: 0.4411 - accuracy: 0.7913 - val_loss: 0.4578 - val_accuracy: 0.7662\n",
      "Epoch 100/200\n",
      "15/15 [==============================] - 0s 4ms/step - loss: 0.4415 - accuracy: 0.8065 - val_loss: 0.4587 - val_accuracy: 0.7727\n",
      "Epoch 101/200\n",
      "15/15 [==============================] - 0s 4ms/step - loss: 0.4564 - accuracy: 0.7870 - val_loss: 0.4589 - val_accuracy: 0.7792\n",
      "Epoch 102/200\n",
      "15/15 [==============================] - 0s 4ms/step - loss: 0.4571 - accuracy: 0.7717 - val_loss: 0.4633 - val_accuracy: 0.7597\n",
      "Epoch 103/200\n",
      "15/15 [==============================] - 0s 5ms/step - loss: 0.4549 - accuracy: 0.7717 - val_loss: 0.4603 - val_accuracy: 0.7792\n",
      "Epoch 104/200\n",
      "15/15 [==============================] - 0s 5ms/step - loss: 0.4598 - accuracy: 0.7913 - val_loss: 0.4574 - val_accuracy: 0.7727\n",
      "Epoch 105/200\n",
      "15/15 [==============================] - 0s 4ms/step - loss: 0.4494 - accuracy: 0.7783 - val_loss: 0.4575 - val_accuracy: 0.7727\n",
      "Epoch 106/200\n",
      "15/15 [==============================] - 0s 4ms/step - loss: 0.4603 - accuracy: 0.7783 - val_loss: 0.4556 - val_accuracy: 0.7727\n",
      "Epoch 107/200\n",
      "15/15 [==============================] - 0s 3ms/step - loss: 0.4456 - accuracy: 0.7935 - val_loss: 0.4548 - val_accuracy: 0.7662\n",
      "Epoch 108/200\n",
      "15/15 [==============================] - 0s 4ms/step - loss: 0.4443 - accuracy: 0.7935 - val_loss: 0.4551 - val_accuracy: 0.7792\n",
      "Epoch 109/200\n",
      "15/15 [==============================] - 0s 5ms/step - loss: 0.4591 - accuracy: 0.7848 - val_loss: 0.4540 - val_accuracy: 0.7792\n",
      "Epoch 110/200\n",
      "15/15 [==============================] - 0s 4ms/step - loss: 0.4458 - accuracy: 0.8022 - val_loss: 0.4528 - val_accuracy: 0.7662\n",
      "Epoch 111/200\n",
      "15/15 [==============================] - 0s 4ms/step - loss: 0.4261 - accuracy: 0.7978 - val_loss: 0.4580 - val_accuracy: 0.7727\n",
      "Epoch 112/200\n",
      "15/15 [==============================] - 0s 5ms/step - loss: 0.4521 - accuracy: 0.7891 - val_loss: 0.4572 - val_accuracy: 0.7727\n",
      "Epoch 113/200\n",
      "15/15 [==============================] - 0s 4ms/step - loss: 0.4549 - accuracy: 0.7870 - val_loss: 0.4577 - val_accuracy: 0.7662\n",
      "Epoch 114/200\n",
      "15/15 [==============================] - 0s 4ms/step - loss: 0.4475 - accuracy: 0.7826 - val_loss: 0.4576 - val_accuracy: 0.7727\n",
      "Epoch 115/200\n",
      "15/15 [==============================] - 0s 3ms/step - loss: 0.4332 - accuracy: 0.7957 - val_loss: 0.4537 - val_accuracy: 0.7922\n",
      "Epoch 116/200\n",
      "15/15 [==============================] - 0s 5ms/step - loss: 0.4558 - accuracy: 0.8000 - val_loss: 0.4543 - val_accuracy: 0.7857\n",
      "Epoch 117/200\n",
      "15/15 [==============================] - 0s 5ms/step - loss: 0.4492 - accuracy: 0.8130 - val_loss: 0.4553 - val_accuracy: 0.7792\n",
      "Epoch 118/200\n",
      "15/15 [==============================] - 0s 4ms/step - loss: 0.4457 - accuracy: 0.8130 - val_loss: 0.4566 - val_accuracy: 0.7727\n",
      "Epoch 119/200\n",
      "15/15 [==============================] - 0s 4ms/step - loss: 0.4517 - accuracy: 0.7913 - val_loss: 0.4556 - val_accuracy: 0.7727\n",
      "Epoch 120/200\n",
      "15/15 [==============================] - 0s 4ms/step - loss: 0.4551 - accuracy: 0.7826 - val_loss: 0.4543 - val_accuracy: 0.7727\n",
      "Epoch 121/200\n",
      "15/15 [==============================] - 0s 5ms/step - loss: 0.4351 - accuracy: 0.7891 - val_loss: 0.4544 - val_accuracy: 0.7727\n",
      "Epoch 122/200\n",
      "15/15 [==============================] - 0s 4ms/step - loss: 0.4376 - accuracy: 0.7848 - val_loss: 0.4567 - val_accuracy: 0.7727\n",
      "Epoch 123/200\n",
      "15/15 [==============================] - 0s 4ms/step - loss: 0.4367 - accuracy: 0.8022 - val_loss: 0.4547 - val_accuracy: 0.7922\n",
      "Epoch 124/200\n",
      "15/15 [==============================] - 0s 4ms/step - loss: 0.4341 - accuracy: 0.7848 - val_loss: 0.4572 - val_accuracy: 0.7727\n",
      "Epoch 125/200\n",
      "15/15 [==============================] - 0s 4ms/step - loss: 0.4516 - accuracy: 0.7935 - val_loss: 0.4567 - val_accuracy: 0.7662\n",
      "Epoch 126/200\n",
      "15/15 [==============================] - 0s 3ms/step - loss: 0.4350 - accuracy: 0.8130 - val_loss: 0.4511 - val_accuracy: 0.7792\n",
      "Epoch 127/200\n",
      "15/15 [==============================] - 0s 4ms/step - loss: 0.4419 - accuracy: 0.7935 - val_loss: 0.4498 - val_accuracy: 0.7987\n",
      "Epoch 128/200\n",
      "15/15 [==============================] - 0s 4ms/step - loss: 0.4523 - accuracy: 0.8109 - val_loss: 0.4510 - val_accuracy: 0.7857\n",
      "Epoch 129/200\n",
      "15/15 [==============================] - 0s 5ms/step - loss: 0.4395 - accuracy: 0.7935 - val_loss: 0.4524 - val_accuracy: 0.7857\n",
      "Epoch 130/200\n",
      "15/15 [==============================] - 0s 4ms/step - loss: 0.4257 - accuracy: 0.7935 - val_loss: 0.4561 - val_accuracy: 0.7792\n",
      "Epoch 131/200\n",
      "15/15 [==============================] - 0s 5ms/step - loss: 0.4454 - accuracy: 0.7804 - val_loss: 0.4533 - val_accuracy: 0.7792\n",
      "Epoch 132/200\n",
      "15/15 [==============================] - 0s 3ms/step - loss: 0.4338 - accuracy: 0.8000 - val_loss: 0.4544 - val_accuracy: 0.7857\n",
      "Epoch 133/200\n",
      "15/15 [==============================] - 0s 5ms/step - loss: 0.4274 - accuracy: 0.8130 - val_loss: 0.4542 - val_accuracy: 0.7857\n",
      "Epoch 134/200\n",
      "15/15 [==============================] - 0s 5ms/step - loss: 0.4264 - accuracy: 0.8065 - val_loss: 0.4624 - val_accuracy: 0.7792\n",
      "Epoch 135/200\n",
      "15/15 [==============================] - 0s 5ms/step - loss: 0.4365 - accuracy: 0.7891 - val_loss: 0.4588 - val_accuracy: 0.7792\n",
      "Epoch 136/200\n",
      "15/15 [==============================] - 0s 4ms/step - loss: 0.4356 - accuracy: 0.8000 - val_loss: 0.4572 - val_accuracy: 0.7987\n",
      "Epoch 137/200\n",
      "15/15 [==============================] - 0s 5ms/step - loss: 0.4285 - accuracy: 0.8043 - val_loss: 0.4547 - val_accuracy: 0.7857\n",
      "Epoch 138/200\n",
      "15/15 [==============================] - 0s 4ms/step - loss: 0.4362 - accuracy: 0.8065 - val_loss: 0.4575 - val_accuracy: 0.7792\n",
      "Epoch 139/200\n",
      "15/15 [==============================] - 0s 4ms/step - loss: 0.4376 - accuracy: 0.8087 - val_loss: 0.4562 - val_accuracy: 0.7987\n",
      "Epoch 140/200\n",
      "15/15 [==============================] - 0s 5ms/step - loss: 0.4341 - accuracy: 0.7957 - val_loss: 0.4544 - val_accuracy: 0.7857\n",
      "Epoch 141/200\n",
      "15/15 [==============================] - 0s 4ms/step - loss: 0.4492 - accuracy: 0.7848 - val_loss: 0.4524 - val_accuracy: 0.8117\n",
      "Epoch 142/200\n",
      "15/15 [==============================] - 0s 4ms/step - loss: 0.4528 - accuracy: 0.7913 - val_loss: 0.4516 - val_accuracy: 0.7987\n",
      "Epoch 143/200\n",
      "15/15 [==============================] - 0s 4ms/step - loss: 0.4423 - accuracy: 0.7870 - val_loss: 0.4504 - val_accuracy: 0.7857\n",
      "Epoch 144/200\n",
      "15/15 [==============================] - 0s 3ms/step - loss: 0.4484 - accuracy: 0.7978 - val_loss: 0.4511 - val_accuracy: 0.7857\n",
      "Epoch 145/200\n",
      "15/15 [==============================] - 0s 4ms/step - loss: 0.4282 - accuracy: 0.7913 - val_loss: 0.4555 - val_accuracy: 0.7857\n",
      "Epoch 146/200\n",
      "15/15 [==============================] - 0s 3ms/step - loss: 0.4189 - accuracy: 0.8174 - val_loss: 0.4579 - val_accuracy: 0.7922\n",
      "Epoch 147/200\n",
      "15/15 [==============================] - 0s 5ms/step - loss: 0.4252 - accuracy: 0.8174 - val_loss: 0.4585 - val_accuracy: 0.7857\n",
      "Epoch 148/200\n",
      "15/15 [==============================] - 0s 5ms/step - loss: 0.4576 - accuracy: 0.7870 - val_loss: 0.4528 - val_accuracy: 0.7922\n",
      "Epoch 149/200\n",
      "15/15 [==============================] - 0s 3ms/step - loss: 0.4548 - accuracy: 0.8022 - val_loss: 0.4532 - val_accuracy: 0.7922\n",
      "Epoch 150/200\n",
      "15/15 [==============================] - 0s 3ms/step - loss: 0.4365 - accuracy: 0.8087 - val_loss: 0.4521 - val_accuracy: 0.7857\n",
      "Epoch 151/200\n",
      "15/15 [==============================] - 0s 5ms/step - loss: 0.4162 - accuracy: 0.7978 - val_loss: 0.4558 - val_accuracy: 0.7792\n",
      "Epoch 152/200\n",
      "15/15 [==============================] - 0s 4ms/step - loss: 0.4143 - accuracy: 0.7978 - val_loss: 0.4546 - val_accuracy: 0.7922\n",
      "Epoch 153/200\n",
      "15/15 [==============================] - 0s 5ms/step - loss: 0.4346 - accuracy: 0.7957 - val_loss: 0.4533 - val_accuracy: 0.7792\n",
      "Epoch 154/200\n",
      "15/15 [==============================] - 0s 3ms/step - loss: 0.4328 - accuracy: 0.7783 - val_loss: 0.4522 - val_accuracy: 0.7792\n",
      "Epoch 155/200\n",
      "15/15 [==============================] - 0s 4ms/step - loss: 0.4522 - accuracy: 0.8087 - val_loss: 0.4553 - val_accuracy: 0.7857\n",
      "Epoch 156/200\n",
      "15/15 [==============================] - 0s 5ms/step - loss: 0.4395 - accuracy: 0.8022 - val_loss: 0.4518 - val_accuracy: 0.8052\n",
      "Epoch 157/200\n",
      "15/15 [==============================] - 0s 5ms/step - loss: 0.4312 - accuracy: 0.7957 - val_loss: 0.4531 - val_accuracy: 0.7987\n",
      "Epoch 158/200\n",
      "15/15 [==============================] - 0s 5ms/step - loss: 0.4262 - accuracy: 0.7957 - val_loss: 0.4544 - val_accuracy: 0.7857\n",
      "Epoch 159/200\n",
      "15/15 [==============================] - 0s 5ms/step - loss: 0.4312 - accuracy: 0.8043 - val_loss: 0.4575 - val_accuracy: 0.7792\n",
      "Epoch 160/200\n",
      "15/15 [==============================] - 0s 5ms/step - loss: 0.4445 - accuracy: 0.8022 - val_loss: 0.4493 - val_accuracy: 0.7857\n",
      "Epoch 161/200\n",
      "15/15 [==============================] - 0s 4ms/step - loss: 0.4376 - accuracy: 0.8000 - val_loss: 0.4521 - val_accuracy: 0.7922\n",
      "Epoch 162/200\n",
      "15/15 [==============================] - 0s 4ms/step - loss: 0.4214 - accuracy: 0.8000 - val_loss: 0.4518 - val_accuracy: 0.7922\n",
      "Epoch 163/200\n",
      "15/15 [==============================] - 0s 4ms/step - loss: 0.4305 - accuracy: 0.8043 - val_loss: 0.4531 - val_accuracy: 0.7922\n",
      "Epoch 164/200\n",
      "15/15 [==============================] - 0s 4ms/step - loss: 0.4510 - accuracy: 0.8130 - val_loss: 0.4562 - val_accuracy: 0.7727\n",
      "Epoch 165/200\n",
      "15/15 [==============================] - 0s 5ms/step - loss: 0.4200 - accuracy: 0.7978 - val_loss: 0.4535 - val_accuracy: 0.7792\n",
      "Epoch 166/200\n",
      "15/15 [==============================] - 0s 5ms/step - loss: 0.4299 - accuracy: 0.8065 - val_loss: 0.4516 - val_accuracy: 0.7987\n",
      "Epoch 167/200\n",
      "15/15 [==============================] - 0s 4ms/step - loss: 0.4376 - accuracy: 0.8000 - val_loss: 0.4562 - val_accuracy: 0.7792\n",
      "Epoch 168/200\n",
      "15/15 [==============================] - 0s 4ms/step - loss: 0.4335 - accuracy: 0.7891 - val_loss: 0.4490 - val_accuracy: 0.7987\n",
      "Epoch 169/200\n",
      "15/15 [==============================] - 0s 4ms/step - loss: 0.4396 - accuracy: 0.8130 - val_loss: 0.4518 - val_accuracy: 0.8052\n",
      "Epoch 170/200\n",
      "15/15 [==============================] - 0s 5ms/step - loss: 0.4272 - accuracy: 0.8065 - val_loss: 0.4527 - val_accuracy: 0.7857\n",
      "Epoch 171/200\n",
      "15/15 [==============================] - 0s 3ms/step - loss: 0.4301 - accuracy: 0.8043 - val_loss: 0.4524 - val_accuracy: 0.8052\n",
      "Epoch 172/200\n",
      "15/15 [==============================] - 0s 5ms/step - loss: 0.4342 - accuracy: 0.7913 - val_loss: 0.4552 - val_accuracy: 0.7922\n",
      "Epoch 173/200\n",
      "15/15 [==============================] - 0s 4ms/step - loss: 0.4257 - accuracy: 0.8087 - val_loss: 0.4472 - val_accuracy: 0.8052\n",
      "Epoch 174/200\n",
      "15/15 [==============================] - 0s 4ms/step - loss: 0.4193 - accuracy: 0.8087 - val_loss: 0.4514 - val_accuracy: 0.8117\n",
      "Epoch 175/200\n",
      "15/15 [==============================] - 0s 5ms/step - loss: 0.4257 - accuracy: 0.8065 - val_loss: 0.4527 - val_accuracy: 0.7922\n",
      "Epoch 176/200\n",
      "15/15 [==============================] - 0s 5ms/step - loss: 0.4354 - accuracy: 0.8152 - val_loss: 0.4526 - val_accuracy: 0.7792\n",
      "Epoch 177/200\n",
      "15/15 [==============================] - 0s 5ms/step - loss: 0.4177 - accuracy: 0.8065 - val_loss: 0.4533 - val_accuracy: 0.7857\n",
      "Epoch 178/200\n",
      "15/15 [==============================] - 0s 4ms/step - loss: 0.4418 - accuracy: 0.8065 - val_loss: 0.4518 - val_accuracy: 0.7922\n",
      "Epoch 179/200\n",
      "15/15 [==============================] - 0s 4ms/step - loss: 0.4336 - accuracy: 0.8000 - val_loss: 0.4562 - val_accuracy: 0.7857\n",
      "Epoch 180/200\n",
      "15/15 [==============================] - 0s 4ms/step - loss: 0.4203 - accuracy: 0.8152 - val_loss: 0.4583 - val_accuracy: 0.7857\n",
      "Epoch 181/200\n",
      "15/15 [==============================] - 0s 6ms/step - loss: 0.4225 - accuracy: 0.8109 - val_loss: 0.4602 - val_accuracy: 0.7792\n",
      "Epoch 182/200\n",
      "15/15 [==============================] - 0s 4ms/step - loss: 0.4290 - accuracy: 0.7935 - val_loss: 0.4577 - val_accuracy: 0.7792\n",
      "Epoch 183/200\n",
      "15/15 [==============================] - 0s 4ms/step - loss: 0.4353 - accuracy: 0.8043 - val_loss: 0.4575 - val_accuracy: 0.7727\n",
      "Epoch 184/200\n",
      "15/15 [==============================] - 0s 5ms/step - loss: 0.4304 - accuracy: 0.8043 - val_loss: 0.4546 - val_accuracy: 0.7857\n",
      "Epoch 185/200\n",
      "15/15 [==============================] - 0s 5ms/step - loss: 0.4217 - accuracy: 0.8043 - val_loss: 0.4524 - val_accuracy: 0.7792\n",
      "Epoch 186/200\n",
      "15/15 [==============================] - 0s 4ms/step - loss: 0.4300 - accuracy: 0.7957 - val_loss: 0.4538 - val_accuracy: 0.7857\n",
      "Epoch 187/200\n",
      "15/15 [==============================] - 0s 3ms/step - loss: 0.4338 - accuracy: 0.8109 - val_loss: 0.4546 - val_accuracy: 0.7792\n",
      "Epoch 188/200\n",
      "15/15 [==============================] - 0s 4ms/step - loss: 0.4174 - accuracy: 0.8065 - val_loss: 0.4579 - val_accuracy: 0.7857\n",
      "Epoch 189/200\n",
      "15/15 [==============================] - 0s 3ms/step - loss: 0.4409 - accuracy: 0.8087 - val_loss: 0.4579 - val_accuracy: 0.7922\n",
      "Epoch 190/200\n",
      "15/15 [==============================] - 0s 4ms/step - loss: 0.4169 - accuracy: 0.8065 - val_loss: 0.4622 - val_accuracy: 0.7792\n",
      "Epoch 191/200\n",
      "15/15 [==============================] - 0s 5ms/step - loss: 0.4353 - accuracy: 0.8065 - val_loss: 0.4529 - val_accuracy: 0.7857\n",
      "Epoch 192/200\n",
      "15/15 [==============================] - 0s 5ms/step - loss: 0.4280 - accuracy: 0.8000 - val_loss: 0.4519 - val_accuracy: 0.7987\n",
      "Epoch 193/200\n",
      "15/15 [==============================] - 0s 4ms/step - loss: 0.4194 - accuracy: 0.8283 - val_loss: 0.4579 - val_accuracy: 0.7922\n",
      "Epoch 194/200\n",
      "15/15 [==============================] - 0s 5ms/step - loss: 0.4237 - accuracy: 0.7978 - val_loss: 0.4522 - val_accuracy: 0.7987\n",
      "Epoch 195/200\n",
      "15/15 [==============================] - 0s 4ms/step - loss: 0.4208 - accuracy: 0.8043 - val_loss: 0.4566 - val_accuracy: 0.7922\n",
      "Epoch 196/200\n",
      "15/15 [==============================] - 0s 4ms/step - loss: 0.4145 - accuracy: 0.8152 - val_loss: 0.4555 - val_accuracy: 0.7792\n",
      "Epoch 197/200\n",
      "15/15 [==============================] - 0s 3ms/step - loss: 0.4248 - accuracy: 0.8130 - val_loss: 0.4517 - val_accuracy: 0.7987\n",
      "Epoch 198/200\n",
      "15/15 [==============================] - 0s 4ms/step - loss: 0.4135 - accuracy: 0.8130 - val_loss: 0.4476 - val_accuracy: 0.7922\n",
      "Epoch 199/200\n",
      "15/15 [==============================] - 0s 5ms/step - loss: 0.4280 - accuracy: 0.8087 - val_loss: 0.4578 - val_accuracy: 0.7922\n",
      "Epoch 200/200\n",
      "15/15 [==============================] - 0s 4ms/step - loss: 0.4218 - accuracy: 0.8130 - val_loss: 0.4525 - val_accuracy: 0.7857\n"
     ]
    }
   ],
   "source": [
    "history2 = model2.fit(X_train, y_train, epochs=200, batch_size=32, verbose = 1, validation_data=(X_test, y_test))"
   ]
  },
  {
   "cell_type": "code",
   "execution_count": null,
   "metadata": {
    "colab": {
     "base_uri": "https://localhost:8080/",
     "height": 295
    },
    "id": "BM7CfmCa7mBg",
    "outputId": "0f42dbc4-9e9e-4110-9c40-d811942356a9"
   },
   "outputs": [
    {
     "data": {
      "image/png": "[encoded data removed]",
      "text/plain": [
       "<Figure size 432x288 with 1 Axes>"
      ]
     },
     "metadata": {
      "needs_background": "light"
     },
     "output_type": "display_data"
    }
   ],
   "source": [
    "loss_train = history.history['loss']\n",
    "loss_val = history.history['val_loss']\n",
    "epochs = range(1,201)\n",
    "plt.plot(epochs, loss_train, 'g', label='Training loss')\n",
    "plt.plot(epochs, loss_val, 'b', label='validation loss')\n",
    "plt.title('Training and Validation loss')\n",
    "plt.xlabel('Epoch')\n",
    "plt.ylabel('loss')\n",
    "plt.legend()\n",
    "plt.show()"
   ]
  },
  {
   "cell_type": "code",
   "execution_count": null,
   "metadata": {
    "colab": {
     "base_uri": "https://localhost:8080/",
     "height": 295
    },
    "id": "-dhP3om97uxn",
    "outputId": "0d1f1d98-d97f-40e5-8867-3bffe5bceeae"
   },
   "outputs": [
    {
     "data": {
      "image/png": "[encoded data removed]",
      "text/plain": [
       "<Figure size 432x288 with 1 Axes>"
      ]
     },
     "metadata": {
      "needs_background": "light"
     },
     "output_type": "display_data"
    }
   ],
   "source": [
    "loss_train = history.history['accuracy']\n",
    "loss_val = history.history['val_accuracy']\n",
    "epochs = range(1,201)\n",
    "plt.plot(epochs, loss_train, 'g', label='Training acc')\n",
    "plt.plot(epochs, loss_val, 'b', label='validation acc')\n",
    "plt.title('Training and Validation acc')\n",
    "plt.xlabel('Epoch')\n",
    "plt.ylabel('Acc')\n",
    "plt.legend()\n",
    "plt.show()"
   ]
  },
  {
   "cell_type": "code",
   "execution_count": null,
   "metadata": {
    "colab": {
     "base_uri": "https://localhost:8080/"
    },
    "id": "oQJzy80t70Pw",
    "outputId": "31bffb34-e350-4796-dbea-dbc1b1313d2b"
   },
   "outputs": [
    {
     "name": "stdout",
     "output_type": "stream",
     "text": [
      "6/6 [==============================] - 0s 2ms/step - loss: 0.4525 - accuracy: 0.7857\n"
     ]
    }
   ],
   "source": [
    "loss = model2.evaluate(X_test, y_test, verbose=1, batch_size=30)"
   ]
  },
  {
   "cell_type": "code",
   "execution_count": null,
   "metadata": {
    "id": "snFNLy8T8IC7"
   },
   "outputs": [],
   "source": []
  }
 ],
 "metadata": {
  "colab": {
   "collapsed_sections": [],
   "name": "Copy of main Untitled0.ipynb",
   "provenance": []
  },
  "kernelspec": {
   "display_name": "Python 3",
   "language": "python",
   "name": "python3"
  },
  "language_info": {
   "codemirror_mode": {
    "name": "ipython",
    "version": 3
   },
   "file_extension": ".py",
   "mimetype": "text/x-python",
   "name": "python",
   "nbconvert_exporter": "python",
   "pygments_lexer": "ipython3",
   "version": "3.8.8"
  }
 },
 "nbformat": 4,
 "nbformat_minor": 1
}
